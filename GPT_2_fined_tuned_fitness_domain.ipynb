{
  "cells": [
    {
      "cell_type": "markdown",
      "metadata": {
        "id": "view-in-github",
        "colab_type": "text"
      },
      "source": [
        "<a href=\"https://colab.research.google.com/github/KOFIYEB/NLP-LLM/blob/main/GPT_2_fined_tuned_fitness_domain.ipynb\" target=\"_parent\"><img src=\"https://colab.research.google.com/assets/colab-badge.svg\" alt=\"Open In Colab\"/></a>"
      ]
    },
    {
      "metadata": {
        "id": "BVBlT7-1yHs4"
      },
      "cell_type": "markdown",
      "source": [
        "# **LOADING PACKAGES**"
      ]
    },
    {
      "metadata": {
        "id": "-T2nUkW7GRva",
        "trusted": false
      },
      "cell_type": "code",
      "source": [
        "!pip install transformers[sentencepiece]\n",
        "!pip install datasets\n",
        "!pip install accelerate -U"
      ],
      "execution_count": null,
      "outputs": []
    },
    {
      "metadata": {
        "id": "kDMWE-sSG-KT",
        "trusted": false
      },
      "cell_type": "code",
      "source": [
        "pip install datasets"
      ],
      "execution_count": null,
      "outputs": []
    },
    {
      "metadata": {
        "id": "H-ngmEAyHESV",
        "trusted": false
      },
      "cell_type": "code",
      "source": [
        "import pandas as pd\n",
        "import numpy as np\n",
        "import math\n",
        "import torch\n",
        "from transformers import AutoTokenizer, AutoModelForCausalLM\n",
        "from datasets import load_dataset\n",
        "from transformers import TrainingArguments\n",
        "from transformers import Trainer"
      ],
      "execution_count": null,
      "outputs": []
    },
    {
      "metadata": {
        "id": "Rt4WeW-GycjC"
      },
      "cell_type": "markdown",
      "source": [
        "# **Load Pre-trained Model**"
      ]
    },
    {
      "metadata": {
        "id": "a18Q2Haryjso"
      },
      "cell_type": "markdown",
      "source": [
        "Initially, we import a causal language modeling model along with its associated tokenizer from the model repository."
      ]
    },
    {
      "metadata": {
        "colab": {
          "base_uri": "https://localhost:8080/",
          "height": 35
        },
        "id": "3vftMzE2HKeJ",
        "outputId": "10e00ccd-1dad-4692-c295-4bcb5f81e184",
        "trusted": false
      },
      "cell_type": "code",
      "source": [
        "device = \"cuda\" if torch.cuda.is_available() else \"cpu\"\n",
        "device"
      ],
      "execution_count": null,
      "outputs": [
        {
          "data": {
            "application/vnd.google.colaboratory.intrinsic+json": {
              "type": "string"
            },
            "text/plain": "'cuda'"
          },
          "execution_count": 2,
          "metadata": {},
          "output_type": "execute_result"
        }
      ]
    },
    {
      "metadata": {
        "id": "PitUjxVAHNW6",
        "trusted": false
      },
      "cell_type": "code",
      "source": [
        "model_name = \"distilgpt2\""
      ],
      "execution_count": null,
      "outputs": []
    },
    {
      "metadata": {
        "id": "WbHuS-k6HQOo",
        "trusted": false
      },
      "cell_type": "code",
      "source": [
        "model = AutoModelForCausalLM.from_pretrained(model_name).to(device)\n",
        "tokenizer = AutoTokenizer.from_pretrained(model_name)"
      ],
      "execution_count": null,
      "outputs": []
    },
    {
      "metadata": {
        "id": "OHEAFw3fy4au"
      },
      "cell_type": "markdown",
      "source": [
        "# **Test drive the Model**"
      ]
    },
    {
      "metadata": {
        "id": "YmBO7qJ5HWg4",
        "trusted": false
      },
      "cell_type": "code",
      "source": [
        "input_txt = \"fitness in germany\""
      ],
      "execution_count": null,
      "outputs": []
    },
    {
      "metadata": {
        "colab": {
          "base_uri": "https://localhost:8080/"
        },
        "id": "82jxrivuHjqM",
        "outputId": "8060967f-3731-44c2-9ff6-e3f45dccc1b6",
        "trusted": false
      },
      "cell_type": "code",
      "source": [
        "input_ids = tokenizer(input_txt, return_tensors=\"pt\")[\"input_ids\"].to(device)\n",
        "output = model.generate(input_ids, max_length=64, do_sample=True)\n",
        "print(tokenizer.decode(output[0]))"
      ],
      "execution_count": null,
      "outputs": [
        {
          "name": "stderr",
          "output_type": "stream",
          "text": "The attention mask and the pad token id were not set. As a consequence, you may observe unexpected behavior. Please pass your input's `attention_mask` to obtain reliable results.\nSetting `pad_token_id` to `eos_token_id`:50256 for open-end generation.\n"
        },
        {
          "name": "stdout",
          "output_type": "stream",
          "text": "fitness in germany, in which a certain number of Jewish members of the Jewish community live with this family, and the family member to which the rest of the Jewish community resides in the home is not just a Jew, but also a Jewish man from Israel, and is on a very good and fruitful path toward\n"
        }
      ]
    },
    {
      "cell_type": "code",
      "source": [
        "#Try 2\n",
        "#Combine the main topic and subtopics into the prompt\n",
        "input_txt= f\"Write me a blog post about this topic in a well structured : Fitness in Germany.\"\n",
        "\n",
        "input_ids = tokenizer(input_txt, return_tensors=\"pt\")[\"input_ids\"].to(device)\n",
        "output = model.generate(input_ids, max_length=500, do_sample=True)\n",
        "print(tokenizer.decode(output[0]))"
      ],
      "metadata": {
        "colab": {
          "base_uri": "https://localhost:8080/"
        },
        "id": "RjmYRVsEoGsm",
        "outputId": "c67cb425-cf77-4d1c-e743-c422b5d3aae5"
      },
      "execution_count": null,
      "outputs": [
        {
          "output_type": "stream",
          "name": "stderr",
          "text": [
            "The attention mask and the pad token id were not set. As a consequence, you may observe unexpected behavior. Please pass your input's `attention_mask` to obtain reliable results.\n",
            "Setting `pad_token_id` to `eos_token_id`:50256 for open-end generation.\n"
          ]
        },
        {
          "output_type": "stream",
          "name": "stdout",
          "text": [
            "Write me a blog post about this topic in a well structured : Fitness in Germany.\n",
            "How would you know if you used:\n",
            "1. You are interested the answer to all these questions in the same question. Answer it.\n",
            "2. If you do not understand how to find a perfect, you should consider searching the \"How does diet fit in the body and/or get it wrong?\"\n",
            "3. In other words, if you have tried this list above, don't try this list because it is only meant to help you.\n",
            "You are not a fitness trainer, and not an exercise physiologist. As the article stated, your fitness education should be more than a fitness trainer.\n",
            "Let's look at how to test your fitness knowledge with that knowledge:\n",
            "1- You will start training daily, then you will start a 1-week interval program, with exercises for 5-7 weeks, on each day. Start every week or two of 3 weeks. Each week or two of 4-5 weeks might take 3 to 5 weeks in your training.\n",
            "1- You may end up with something that sounds just like \"what makes me healthier\" because the exercise doesn't need to be 100% efficient.\n",
            "2- You might be going to get stuck in some \"what does your workout look like so you can make all the time.\" This might sound like \"that really doesn't make me healthy.\"\n",
            "3- You might lose pounds or have a weakness.\n",
            "1- You might get fat and get the weight lost too.\n",
            "2- you should be doing what you were asked: get a break during the day. Start in a week or two of 6 weeks, then you will take your break between 6 and 7 weeks. The next three weeks will be different.\n",
            "3- You might get lost weight too.\n",
            "2- You might get lost weight too soon.\n",
            "1- You might get weak and lose weight too soon.\n",
            "2- You might get lost weight too quickly.\n",
            "1- You might get fat and start feeling a little bit worse after 10 days.\n",
            "3- You might get weak and lose weight too quickly.\n",
            "4- You might get fat and start feeling that it isn't about getting lost.\n",
            "So why are you fat, too, too?\n",
            "1- Do you have the right motivation for exercise?\n",
            "1- You might get a feeling for exercise or exercise.\n",
            "2- You might see your body as\n"
          ]
        }
      ]
    },
    {
      "cell_type": "code",
      "source": [
        "#Try with beam search sampling method\n",
        "chat = [\n",
        "    {\"role\": \"user\", \"content\": \"Write me a blog post about this topic: Fitness in Germany.\"},\n",
        "\n",
        "]\n",
        "\n",
        "encodeds = tokenizer.apply_chat_template(chat, return_tensors=\"pt\")\n",
        "tokenizer.apply_chat_template(chat, tokenize=False)\n",
        "\n",
        "model_inputs = encodeds.to(device)\n",
        "model.to(device)\n",
        "\n",
        "generated_ids = model.generate(model_inputs, max_new_tokens=500, do_sample=True)\n",
        "decoded = tokenizer.batch_decode(generated_ids)\n",
        "print(decoded[0])"
      ],
      "metadata": {
        "colab": {
          "base_uri": "https://localhost:8080/"
        },
        "id": "0wFjKMjT-jWu",
        "outputId": "529371b9-d2cc-4760-bdd3-18223b9c073d"
      },
      "execution_count": null,
      "outputs": [
        {
          "output_type": "stream",
          "name": "stderr",
          "text": [
            "The attention mask and the pad token id were not set. As a consequence, you may observe unexpected behavior. Please pass your input's `attention_mask` to obtain reliable results.\n",
            "Setting `pad_token_id` to `eos_token_id`:50256 for open-end generation.\n",
            "A decoder-only architecture is being used, but right-padding was detected! For correct generation results, please set `padding_side='left'` when initializing the tokenizer.\n"
          ]
        },
        {
          "output_type": "stream",
          "name": "stdout",
          "text": [
            "Write me a blog post about this topic: Fitness in Germany.<|endoftext|>I was writing my first post on the world of fitness to become a fitness instructor on the way into becoming a fitness instructor. I have the following tips for you so you can learn more about doing it at the beginning.\n",
            "\n",
            "\n",
            "1. The first step to becoming a fitness instructor is to develop a healthy diet.\n",
            "2. The first step to becoming a fitness instructor is to work with your friends:\n",
            "1. In addition to running, your best friend is an exercise instructor. I don't normally run around, but this can save time and money. If you don't manage your time and money you can make a new job with more training and activities…or even give it more time in your body at the gym. The exercise method will only work when your body is doing a proper job, so you will be more likely to benefit from these simple techniques while maintaining the fitness lifestyle.\n",
            "You'll also get the opportunity to learn more about practicing your exercise program by following this very basic training technique. In the following video, you'll learn some of the techniques that are best for your fitness and the time behind this method.\n",
            "Start by learning to learn more about your exercise diet.\n",
            "1. If you are using a gym or the same one as a gym, then you can get used to what's right for your personal life to achieve your goal. However, you will need to change your lifestyle. This is a little more information about what is correct for fitness, and how to do it.\n",
            "Before you start this section, you may still need to read the basic guide and if you've forgotten something that is in your personal life, then you probably need to learn a little exercise that will help you achieve your goal. Some of the best exercises to learn are:\n",
            "1) Exercise a natural rhythm\n",
            "2) Set your body up around the body to let the body rest\n",
            "3) Do as you would when sitting and running. Practice the basic movement on your elbows and back.\n",
            "4) Try taking part in weight lifting, bench press, or body squat\n",
            "5) Do the same exercises each day\n",
            "6) Take your day off with all your training. You can also do more exercise from the beginning and from the end in order to complete your training for yourself.\n",
            "For beginners, this is probably the best exercise for those looking to reach the maximum amount of free time out there.\n",
            "However, the key is to set up your fitness training routine quickly\n"
          ]
        }
      ]
    },
    {
      "cell_type": "code",
      "source": [
        "##Try with beam search sampling method 2\n",
        "chat = [\n",
        "    {\"role\": \"user\", \"content\": \"Write me a blog post about this topic: Fitness in Germany.\"},\n",
        "\n",
        "]\n",
        "\n",
        "encodeds = tokenizer.apply_chat_template(chat, return_tensors=\"pt\")\n",
        "tokenizer.apply_chat_template(chat, tokenize=False)\n",
        "\n",
        "model_inputs = encodeds.to(device)\n",
        "model.to(device)\n",
        "\n",
        "generated_ids = model.generate(model_inputs, max_new_tokens=500, do_sample=True)\n",
        "decoded = tokenizer.batch_decode(generated_ids)\n",
        "print(decoded[0])"
      ],
      "metadata": {
        "outputId": "0be6ebcf-7d11-4eec-9fa1-3a453074780d",
        "colab": {
          "base_uri": "https://localhost:8080/"
        },
        "id": "jUJIceDmHh-v"
      },
      "execution_count": null,
      "outputs": [
        {
          "output_type": "stream",
          "name": "stderr",
          "text": [
            "The attention mask and the pad token id were not set. As a consequence, you may observe unexpected behavior. Please pass your input's `attention_mask` to obtain reliable results.\n",
            "Setting `pad_token_id` to `eos_token_id`:50256 for open-end generation.\n",
            "A decoder-only architecture is being used, but right-padding was detected! For correct generation results, please set `padding_side='left'` when initializing the tokenizer.\n"
          ]
        },
        {
          "output_type": "stream",
          "name": "stdout",
          "text": [
            "Write me a blog post about this topic: Fitness in Germany.<|endoftext|>From the beginning of May all things, we will be looking at how to develop the software for your device. In my article On the Apple Store with Apple's App Store, I explain why these different operating systems make sense. The first three types of operating systems do not support operating systems. But there are many different alternatives to Linux running systems.\n",
            "\n",
            "\n",
            "The Linux operating system is a new operating system called Sun64. This system works well, but if you download the right package we will be fine.\n",
            "The Linux kernel is not quite well optimized, but it should provide some practical applications to most operating systems and the purpose of my project is to improve existing operating system.\n",
            "In this article, I will outline how to work with the GNU/Linux kernel. Also check out the instructions to read the instructions and documentation for how to work with a GNU/Linux kernel.\n",
            "The GNU/Linux kernel is an essential component of GNU/Linux. We can use it and some extra packages.\n",
            "First of all is the GNU/Linux kernel.\n",
            "So where do you start? Then here we are looking at what is most recommended in GNU/Linux for a Linux distribution and what is a GNU/Linux distribution for the Raspberry Pi.\n",
            "The second thing you need to do is to make sure you are at least familiar with the kernel and how it was developed and how to use it.\n",
            "First, make sure you have installed the GNU/Linux ISO. The OS is a Linux 4.2.6 based OS. To work with the OS, just type in OS number #2: 64-bit.\n",
            "It is not the best way to use GNU/Linux's system.\n",
            "First you need to know that you have access to all its programs, libraries etc in your Mac. In the following article, you need to know about Linux for this:\n",
            "Ubuntu System Requirements\n",
            "On the Windows operating system, you need to be able to run your Linux OS running on an OS using Ubuntu. In particular, go to https://www.ubuntu.com/~/. Open Windows is one of the best available operating systems.\n",
            "However, you may have to go to the other path and try to install it.\n",
            "You should use Debian, Ubuntu X86, Ubuntu Mint, Win32, Mint, or GNU/Linux.\n",
            "To work with different operating systems (but not sure if you can use Unix-based Mac OS systems).\n",
            "First, the following install and\n"
          ]
        }
      ]
    },
    {
      "metadata": {
        "id": "dH7VCvNpzAit"
      },
      "cell_type": "markdown",
      "source": [
        "This output underlined the necessity for domain-specific fine-tuning, as the pre-trained model lacked the nuanced understanding required for generating coherent and thematically consistent text. The generated text's deviation from the anticipated subject matter of fitness and inconsistency underscored the importance of adapting the language model to align more closely with the target domain, emphasizing the potential improvements that could be achieved through the fine-tuning process described in the methodology."
      ]
    },
    {
      "metadata": {
        "id": "HoeTVNQ7zSel"
      },
      "cell_type": "markdown",
      "source": [
        "# **Prepare a Dataset for Domain Adaptation**"
      ]
    },
    {
      "metadata": {
        "id": "oJEL2eL8zayw"
      },
      "cell_type": "markdown",
      "source": [
        "We now loading our dataset and preprocess it to handle missing data"
      ]
    },
    {
      "metadata": {
        "colab": {
          "base_uri": "https://localhost:8080/",
          "height": 545
        },
        "id": "qTsQbHFXH0-_",
        "outputId": "c4619283-bde6-4e1f-ef52-673c2d92ece9",
        "trusted": false
      },
      "cell_type": "code",
      "source": [
        "# Load and preprocess the dataset\n",
        "def preprocess_data(file_path):\n",
        "    data = pd.read_excel(file_path)\n",
        "    # Handling missing data\n",
        "    data = data.fillna('')  # or any other strategy you deem fit\n",
        "    # Combine title, sub-topic into one string, and content as another string\n",
        "    data['combined'] = data['title'] + ' ' + data['sub-topic']\n",
        "    return data\n",
        "\n",
        "fit = preprocess_data('Stanzy_Fitness_Dataset.xlsx')\n",
        "fit"
      ],
      "execution_count": null,
      "outputs": [
        {
          "data": {
            "text/html": "\n  <div id=\"df-3a4ca7f2-5444-4f5f-ad39-6fd0578e049f\" class=\"colab-df-container\">\n    <div>\n<style scoped>\n    .dataframe tbody tr th:only-of-type {\n        vertical-align: middle;\n    }\n\n    .dataframe tbody tr th {\n        vertical-align: top;\n    }\n\n    .dataframe thead th {\n        text-align: right;\n    }\n</style>\n<table border=\"1\" class=\"dataframe\">\n  <thead>\n    <tr style=\"text-align: right;\">\n      <th></th>\n      <th>title</th>\n      <th>sub-topic</th>\n      <th>content</th>\n      <th>combined</th>\n    </tr>\n  </thead>\n  <tbody>\n    <tr>\n      <th>0</th>\n      <td>Evidence to Support the Effectiveness of Perso...</td>\n      <td>Evidence to Support the Effectiveness of Perso...</td>\n      <td>Whether you are a newcomer to the fitness worl...</td>\n      <td>Evidence to Support the Effectiveness of Perso...</td>\n    </tr>\n    <tr>\n      <th>1</th>\n      <td>Pilates Ball Core-strengthening Exercises</td>\n      <td>Pilates Ball Core-strengthening Exercises</td>\n      <td>The Pilates ball is an effective training tool...</td>\n      <td>Pilates Ball Core-strengthening Exercises Pila...</td>\n    </tr>\n    <tr>\n      <th>2</th>\n      <td>Pilates Ball Core-strengthening Exercises</td>\n      <td>Pilates Roll-up</td>\n      <td>Position the body into a “V” sit and place the...</td>\n      <td>Pilates Ball Core-strengthening Exercises Pila...</td>\n    </tr>\n    <tr>\n      <th>3</th>\n      <td>Pilates Ball Core-strengthening Exercises</td>\n      <td></td>\n      <td></td>\n      <td>Pilates Ball Core-strengthening Exercises</td>\n    </tr>\n    <tr>\n      <th>4</th>\n      <td>Pilates Ball Core-strengthening Exercises</td>\n      <td>Glute Bridge</td>\n      <td>Lie on the floor and place the Pilates ball be...</td>\n      <td>Pilates Ball Core-strengthening Exercises Glut...</td>\n    </tr>\n    <tr>\n      <th>...</th>\n      <td>...</td>\n      <td>...</td>\n      <td>...</td>\n      <td>...</td>\n    </tr>\n    <tr>\n      <th>1885</th>\n      <td></td>\n      <td>Realizing the power of exercise</td>\n      <td>The irony of it all is that when my back pain ...</td>\n      <td>Realizing the power of exercise</td>\n    </tr>\n    <tr>\n      <th>1886</th>\n      <td></td>\n      <td>Social exercise enhances physical gains\\n</td>\n      <td>While talking to participants after the end of...</td>\n      <td>Social exercise enhances physical gains\\n</td>\n    </tr>\n    <tr>\n      <th>1887</th>\n      <td></td>\n      <td>Research has changed my love-hate relationship...</td>\n      <td>My pain decreased when I began moving for heal...</td>\n      <td>Research has changed my love-hate relationshi...</td>\n    </tr>\n    <tr>\n      <th>1888</th>\n      <td>Signs of Heart Problems During Exercise</td>\n      <td>Signs of Heart Problems During Exercise</td>\n      <td>A sedentary lifestyle is one of the major risk...</td>\n      <td>Signs of Heart Problems During Exercise Signs ...</td>\n    </tr>\n    <tr>\n      <th>1889</th>\n      <td>Signs of Heart Problems During Exercise</td>\n      <td>Signs of heart trouble</td>\n      <td>Even if you’ve previously had a heart attack, ...</td>\n      <td>Signs of Heart Problems During Exercise Signs ...</td>\n    </tr>\n  </tbody>\n</table>\n<p>1890 rows × 4 columns</p>\n</div>\n    <div class=\"colab-df-buttons\">\n\n  <div class=\"colab-df-container\">\n    <button class=\"colab-df-convert\" onclick=\"convertToInteractive('df-3a4ca7f2-5444-4f5f-ad39-6fd0578e049f')\"\n            title=\"Convert this dataframe to an interactive table.\"\n            style=\"display:none;\">\n\n  <svg xmlns=\"http://www.w3.org/2000/svg\" height=\"24px\" viewBox=\"0 -960 960 960\">\n    <path d=\"M120-120v-720h720v720H120Zm60-500h600v-160H180v160Zm220 220h160v-160H400v160Zm0 220h160v-160H400v160ZM180-400h160v-160H180v160Zm440 0h160v-160H620v160ZM180-180h160v-160H180v160Zm440 0h160v-160H620v160Z\"/>\n  </svg>\n    </button>\n\n  <style>\n    .colab-df-container {\n      display:flex;\n      gap: 12px;\n    }\n\n    .colab-df-convert {\n      background-color: #E8F0FE;\n      border: none;\n      border-radius: 50%;\n      cursor: pointer;\n      display: none;\n      fill: #1967D2;\n      height: 32px;\n      padding: 0 0 0 0;\n      width: 32px;\n    }\n\n    .colab-df-convert:hover {\n      background-color: #E2EBFA;\n      box-shadow: 0px 1px 2px rgba(60, 64, 67, 0.3), 0px 1px 3px 1px rgba(60, 64, 67, 0.15);\n      fill: #174EA6;\n    }\n\n    .colab-df-buttons div {\n      margin-bottom: 4px;\n    }\n\n    [theme=dark] .colab-df-convert {\n      background-color: #3B4455;\n      fill: #D2E3FC;\n    }\n\n    [theme=dark] .colab-df-convert:hover {\n      background-color: #434B5C;\n      box-shadow: 0px 1px 3px 1px rgba(0, 0, 0, 0.15);\n      filter: drop-shadow(0px 1px 2px rgba(0, 0, 0, 0.3));\n      fill: #FFFFFF;\n    }\n  </style>\n\n    <script>\n      const buttonEl =\n        document.querySelector('#df-3a4ca7f2-5444-4f5f-ad39-6fd0578e049f button.colab-df-convert');\n      buttonEl.style.display =\n        google.colab.kernel.accessAllowed ? 'block' : 'none';\n\n      async function convertToInteractive(key) {\n        const element = document.querySelector('#df-3a4ca7f2-5444-4f5f-ad39-6fd0578e049f');\n        const dataTable =\n          await google.colab.kernel.invokeFunction('convertToInteractive',\n                                                    [key], {});\n        if (!dataTable) return;\n\n        const docLinkHtml = 'Like what you see? Visit the ' +\n          '<a target=\"_blank\" href=https://colab.research.google.com/notebooks/data_table.ipynb>data table notebook</a>'\n          + ' to learn more about interactive tables.';\n        element.innerHTML = '';\n        dataTable['output_type'] = 'display_data';\n        await google.colab.output.renderOutput(dataTable, element);\n        const docLink = document.createElement('div');\n        docLink.innerHTML = docLinkHtml;\n        element.appendChild(docLink);\n      }\n    </script>\n  </div>\n\n\n<div id=\"df-9d4270d9-813e-497b-918a-79bc62b58bd4\">\n  <button class=\"colab-df-quickchart\" onclick=\"quickchart('df-9d4270d9-813e-497b-918a-79bc62b58bd4')\"\n            title=\"Suggest charts\"\n            style=\"display:none;\">\n\n<svg xmlns=\"http://www.w3.org/2000/svg\" height=\"24px\"viewBox=\"0 0 24 24\"\n     width=\"24px\">\n    <g>\n        <path d=\"M19 3H5c-1.1 0-2 .9-2 2v14c0 1.1.9 2 2 2h14c1.1 0 2-.9 2-2V5c0-1.1-.9-2-2-2zM9 17H7v-7h2v7zm4 0h-2V7h2v10zm4 0h-2v-4h2v4z\"/>\n    </g>\n</svg>\n  </button>\n\n<style>\n  .colab-df-quickchart {\n      --bg-color: #E8F0FE;\n      --fill-color: #1967D2;\n      --hover-bg-color: #E2EBFA;\n      --hover-fill-color: #174EA6;\n      --disabled-fill-color: #AAA;\n      --disabled-bg-color: #DDD;\n  }\n\n  [theme=dark] .colab-df-quickchart {\n      --bg-color: #3B4455;\n      --fill-color: #D2E3FC;\n      --hover-bg-color: #434B5C;\n      --hover-fill-color: #FFFFFF;\n      --disabled-bg-color: #3B4455;\n      --disabled-fill-color: #666;\n  }\n\n  .colab-df-quickchart {\n    background-color: var(--bg-color);\n    border: none;\n    border-radius: 50%;\n    cursor: pointer;\n    display: none;\n    fill: var(--fill-color);\n    height: 32px;\n    padding: 0;\n    width: 32px;\n  }\n\n  .colab-df-quickchart:hover {\n    background-color: var(--hover-bg-color);\n    box-shadow: 0 1px 2px rgba(60, 64, 67, 0.3), 0 1px 3px 1px rgba(60, 64, 67, 0.15);\n    fill: var(--button-hover-fill-color);\n  }\n\n  .colab-df-quickchart-complete:disabled,\n  .colab-df-quickchart-complete:disabled:hover {\n    background-color: var(--disabled-bg-color);\n    fill: var(--disabled-fill-color);\n    box-shadow: none;\n  }\n\n  .colab-df-spinner {\n    border: 2px solid var(--fill-color);\n    border-color: transparent;\n    border-bottom-color: var(--fill-color);\n    animation:\n      spin 1s steps(1) infinite;\n  }\n\n  @keyframes spin {\n    0% {\n      border-color: transparent;\n      border-bottom-color: var(--fill-color);\n      border-left-color: var(--fill-color);\n    }\n    20% {\n      border-color: transparent;\n      border-left-color: var(--fill-color);\n      border-top-color: var(--fill-color);\n    }\n    30% {\n      border-color: transparent;\n      border-left-color: var(--fill-color);\n      border-top-color: var(--fill-color);\n      border-right-color: var(--fill-color);\n    }\n    40% {\n      border-color: transparent;\n      border-right-color: var(--fill-color);\n      border-top-color: var(--fill-color);\n    }\n    60% {\n      border-color: transparent;\n      border-right-color: var(--fill-color);\n    }\n    80% {\n      border-color: transparent;\n      border-right-color: var(--fill-color);\n      border-bottom-color: var(--fill-color);\n    }\n    90% {\n      border-color: transparent;\n      border-bottom-color: var(--fill-color);\n    }\n  }\n</style>\n\n  <script>\n    async function quickchart(key) {\n      const quickchartButtonEl =\n        document.querySelector('#' + key + ' button');\n      quickchartButtonEl.disabled = true;  // To prevent multiple clicks.\n      quickchartButtonEl.classList.add('colab-df-spinner');\n      try {\n        const charts = await google.colab.kernel.invokeFunction(\n            'suggestCharts', [key], {});\n      } catch (error) {\n        console.error('Error during call to suggestCharts:', error);\n      }\n      quickchartButtonEl.classList.remove('colab-df-spinner');\n      quickchartButtonEl.classList.add('colab-df-quickchart-complete');\n    }\n    (() => {\n      let quickchartButtonEl =\n        document.querySelector('#df-9d4270d9-813e-497b-918a-79bc62b58bd4 button');\n      quickchartButtonEl.style.display =\n        google.colab.kernel.accessAllowed ? 'block' : 'none';\n    })();\n  </script>\n</div>\n    </div>\n  </div>\n",
            "text/plain": "                                                  title  \\\n0     Evidence to Support the Effectiveness of Perso...   \n1             Pilates Ball Core-strengthening Exercises   \n2             Pilates Ball Core-strengthening Exercises   \n3             Pilates Ball Core-strengthening Exercises   \n4             Pilates Ball Core-strengthening Exercises   \n...                                                 ...   \n1885                                                      \n1886                                                      \n1887                                                      \n1888            Signs of Heart Problems During Exercise   \n1889            Signs of Heart Problems During Exercise   \n\n                                              sub-topic  \\\n0     Evidence to Support the Effectiveness of Perso...   \n1             Pilates Ball Core-strengthening Exercises   \n2                                       Pilates Roll-up   \n3                                                         \n4                                          Glute Bridge   \n...                                                 ...   \n1885                    Realizing the power of exercise   \n1886          Social exercise enhances physical gains\\n   \n1887  Research has changed my love-hate relationship...   \n1888            Signs of Heart Problems During Exercise   \n1889                             Signs of heart trouble   \n\n                                                content  \\\n0     Whether you are a newcomer to the fitness worl...   \n1     The Pilates ball is an effective training tool...   \n2     Position the body into a “V” sit and place the...   \n3                                                         \n4     Lie on the floor and place the Pilates ball be...   \n...                                                 ...   \n1885  The irony of it all is that when my back pain ...   \n1886  While talking to participants after the end of...   \n1887  My pain decreased when I began moving for heal...   \n1888  A sedentary lifestyle is one of the major risk...   \n1889  Even if you’ve previously had a heart attack, ...   \n\n                                               combined  \n0     Evidence to Support the Effectiveness of Perso...  \n1     Pilates Ball Core-strengthening Exercises Pila...  \n2     Pilates Ball Core-strengthening Exercises Pila...  \n3           Pilates Ball Core-strengthening Exercises    \n4     Pilates Ball Core-strengthening Exercises Glut...  \n...                                                 ...  \n1885                    Realizing the power of exercise  \n1886          Social exercise enhances physical gains\\n  \n1887   Research has changed my love-hate relationshi...  \n1888  Signs of Heart Problems During Exercise Signs ...  \n1889  Signs of Heart Problems During Exercise Signs ...  \n\n[1890 rows x 4 columns]"
          },
          "execution_count": 8,
          "metadata": {},
          "output_type": "execute_result"
        }
      ]
    },
    {
      "metadata": {
        "id": "Lx0cD63T0DX6"
      },
      "cell_type": "markdown",
      "source": [
        "\n",
        "Process the texts using tokenization and eliminate any columns that are not required."
      ]
    },
    {
      "metadata": {
        "id": "l9Nvuad5IAak",
        "trusted": false
      },
      "cell_type": "code",
      "source": [
        "def tokenize_function(examples):\n",
        "    # 'combined' is the field with combined 'title' and 'sub-topic'\n",
        "    return tokenizer(examples['content'], truncation=True, padding='max_length', max_length=512)"
      ],
      "execution_count": null,
      "outputs": []
    },
    {
      "metadata": {
        "colab": {
          "base_uri": "https://localhost:8080/",
          "height": 49,
          "referenced_widgets": [
            "e4d9778fa6ab417581d445188017e1e9",
            "889847b3577e4e9b93eaad82d735d857",
            "3e0b7fa9d06b43abb6eaf694baf0b46d",
            "5152687832f04a8c9b3836318ed632e8",
            "8b77b526bf09408681e41331e33f80bd",
            "bf59ec1bc19644459a950d9bbbfaf649",
            "541dfd4580ac4ed29fb05d5ff5dfdcfe",
            "e2d084efbd044b00891c96033c6c932e",
            "105d5b11da4c4e8fb3b89be67b100b63",
            "de1dc3905edf4737ab8f62773699467d",
            "f26ed3c3b06e4c528d72a1702f1deac4"
          ]
        },
        "id": "PNf5iaIXIEHn",
        "outputId": "adfb866d-96e1-45c9-8517-ab494fde84f4",
        "trusted": false
      },
      "cell_type": "code",
      "source": [
        "# Set the padding token to the eos_token\n",
        "tokenizer.pad_token = tokenizer.eos_token\n",
        "tokenized_datasets = Dataset.from_pandas(fit).map(tokenize_function, batched=True)\n",
        "tokenized_datasets = tokenized_datasets.remove_columns(['title', 'sub-topic', 'content', 'combined'])"
      ],
      "execution_count": null,
      "outputs": [
        {
          "data": {
            "application/vnd.jupyter.widget-view+json": {
              "model_id": "e4d9778fa6ab417581d445188017e1e9",
              "version_major": 2,
              "version_minor": 0
            },
            "text/plain": "Map:   0%|          | 0/1890 [00:00<?, ? examples/s]"
          },
          "metadata": {},
          "output_type": "display_data"
        }
      ]
    },
    {
      "metadata": {
        "colab": {
          "base_uri": "https://localhost:8080/"
        },
        "id": "PGzG4uiaIJB9",
        "outputId": "53c76d4c-3a11-49a2-db79-5658f3f61132",
        "trusted": false
      },
      "cell_type": "code",
      "source": [
        "tokenized_datasets"
      ],
      "execution_count": null,
      "outputs": [
        {
          "data": {
            "text/plain": "Dataset({\n    features: ['input_ids', 'attention_mask'],\n    num_rows: 1890\n})"
          },
          "execution_count": 11,
          "metadata": {},
          "output_type": "execute_result"
        }
      ]
    },
    {
      "metadata": {
        "id": "qexQjgsd09d_"
      },
      "cell_type": "markdown",
      "source": [
        "In causal language modeling, it's typical to merge all text samples into a single continuous string, then divide this string into sections that match the model's context size. This approach bypasses the standard procedure of padding or truncating each sample individually, ensuring the model receives a consistent context size for every sample."
      ]
    },
    {
      "metadata": {
        "id": "znRyEV3zINtn",
        "trusted": false
      },
      "cell_type": "code",
      "source": [
        "chunk_size = 128\n",
        "\n",
        "def group_texts(examples):\n",
        "    # Concatenate all texts\n",
        "    concatenated_examples = {k: sum(examples[k], []) for k in examples.keys()}\n",
        "    # Compute length of concatenated texts\n",
        "    total_length = len(concatenated_examples[list(examples.keys())[0]])\n",
        "    # We drop the last chunk if it's smaller than chunk_size\n",
        "    total_length = (total_length // chunk_size) * chunk_size\n",
        "    # Split by chunks of max_len\n",
        "    result = {\n",
        "        k: [t[i : i + chunk_size] for i in range(0, total_length, chunk_size)]\n",
        "        for k, t in concatenated_examples.items()\n",
        "    }\n",
        "    # Create a new labels column\n",
        "    result['labels'] = result[\"input_ids\"].copy()\n",
        "    return result"
      ],
      "execution_count": null,
      "outputs": []
    },
    {
      "metadata": {
        "id": "lE-ehCU-12yU"
      },
      "cell_type": "markdown",
      "source": [
        "As part of the preprocessing mentioned earlier, a 'labels' column has been appended to the dataset. This column contains the token IDs that correspond to the tokens in the input sequence."
      ]
    },
    {
      "metadata": {
        "colab": {
          "base_uri": "https://localhost:8080/",
          "height": 120,
          "referenced_widgets": [
            "29a7b56b3b48428fa77247ffb11c2746",
            "379e278312a94eb1be2989b051c27e5b",
            "c921c397d1074d48b4c5166f0cfa4623",
            "e0c9a426d16c4e94afe9800806231e97",
            "4fb4dc61342a4868ba4fb62adfd0e0a0",
            "cbb9233aeb2241308476d4ce123d54ad",
            "32725633a0c446e88f4a2f7b600c6481",
            "4524307f72034259b97a7e9a9e483646",
            "468c965cd7fe406bb1a8274e628b2bd7",
            "560b8594f1fc4201a97144991622ffc3",
            "cba4ce3571964f1c9ac77a1199935447"
          ]
        },
        "id": "8DFPcnzRIQtX",
        "outputId": "19ab9d6f-bfab-4dc7-a69e-a60de4242751",
        "trusted": false
      },
      "cell_type": "code",
      "source": [
        "lm_datasets = tokenized_datasets.map(group_texts, batched=True)\n",
        "lm_datasets"
      ],
      "execution_count": null,
      "outputs": [
        {
          "data": {
            "application/vnd.jupyter.widget-view+json": {
              "model_id": "29a7b56b3b48428fa77247ffb11c2746",
              "version_major": 2,
              "version_minor": 0
            },
            "text/plain": "Map:   0%|          | 0/1890 [00:00<?, ? examples/s]"
          },
          "metadata": {},
          "output_type": "display_data"
        },
        {
          "data": {
            "text/plain": "Dataset({\n    features: ['input_ids', 'attention_mask', 'labels'],\n    num_rows: 7560\n})"
          },
          "execution_count": 13,
          "metadata": {},
          "output_type": "execute_result"
        }
      ]
    },
    {
      "metadata": {
        "id": "4JID9RDXIVs2",
        "trusted": false
      },
      "cell_type": "code",
      "source": [
        "lm_datasets[\"input_ids\"][0:10]"
      ],
      "execution_count": null,
      "outputs": []
    },
    {
      "metadata": {
        "id": "Es_1EM-4IZGL",
        "trusted": false
      },
      "cell_type": "code",
      "source": [
        "lm_datasets[\"labels\"][0:10]"
      ],
      "execution_count": null,
      "outputs": []
    },
    {
      "metadata": {
        "id": "QK21Lfr62F5I"
      },
      "cell_type": "markdown",
      "source": [
        "# **Domain-Adapt with Trainer API**"
      ]
    },
    {
      "metadata": {
        "id": "Q68mlStOIb2i",
        "trusted": false
      },
      "cell_type": "code",
      "source": [
        "train_size = 6800\n",
        "test_size = int(0.1 * train_size)\n",
        "\n",
        "downsampled_dataset = lm_datasets.train_test_split(\n",
        "    train_size=train_size, test_size=test_size, seed=42\n",
        ")\n"
      ],
      "execution_count": null,
      "outputs": []
    },
    {
      "metadata": {
        "id": "1Dwa7-BiFtcX"
      },
      "cell_type": "markdown",
      "source": [
        "In causal language modeling, a data collator is unnecessary. The training process is designed so that labels are automatically offset by one position. This means the objective is to predict the token at timestep t+1 utilizing all tokens up to t."
      ]
    },
    {
      "metadata": {
        "id": "sJDaawD1Ievx",
        "trusted": false
      },
      "cell_type": "code",
      "source": [
        "# Define a simple output directory name\n",
        "output_dir =\"{model}-clm-finetuned-fit\"\n",
        "\n",
        "batch_size = 8\n",
        "logging_steps = len(downsampled_dataset[\"train\"]) // batch_size\n",
        "\n",
        "training_args = TrainingArguments(\n",
        "    output_dir= output_dir,\n",
        "    overwrite_output_dir=True,\n",
        "    evaluation_strategy=\"epoch\",\n",
        "    learning_rate=2e-5,\n",
        "    weight_decay=0.01,\n",
        "    per_device_train_batch_size=batch_size,\n",
        "    per_device_eval_batch_size=batch_size,\n",
        "    logging_steps=logging_steps,\n",
        ")"
      ],
      "execution_count": null,
      "outputs": []
    },
    {
      "metadata": {
        "id": "8cvXDWNpIjpC",
        "trusted": false
      },
      "cell_type": "code",
      "source": [
        "trainer = Trainer(\n",
        "    model=model ,\n",
        "    args=training_args,\n",
        "    train_dataset=downsampled_dataset[\"train\"],\n",
        "    eval_dataset=downsampled_dataset[\"test\"]\n",
        ")"
      ],
      "execution_count": null,
      "outputs": []
    },
    {
      "metadata": {
        "id": "lqYvQQleGEmC"
      },
      "cell_type": "markdown",
      "source": [
        "Perplexity of the model that is pre-trained but not adapted to a specific domain."
      ]
    },
    {
      "metadata": {
        "colab": {
          "base_uri": "https://localhost:8080/",
          "height": 73
        },
        "id": "mWFfqhESIteb",
        "outputId": "17940d38-0924-45a7-c59b-bf25fcf9647e",
        "trusted": false
      },
      "cell_type": "code",
      "source": [
        "# Evaluate the model\n",
        "eval_results = trainer.evaluate()\n",
        "\n",
        "# Debug: Print the complete eval_results dictionary\n",
        "print(\"Evaluation Results:\", eval_results)\n",
        "\n",
        "# Check if 'eval_loss' key exists before calculating perplexity\n",
        "if 'eval_loss' in eval_results:\n",
        "    perplexity = math.exp(eval_results['eval_loss'])\n",
        "    print(f\">>> Perplexity: {perplexity:.2f}\")\n",
        "else:\n",
        "    print(\"The 'eval_loss' key does not exist in the evaluation results.\")"
      ],
      "execution_count": null,
      "outputs": [
        {
          "data": {
            "text/html": "\n    <div>\n      \n      <progress value='85' max='85' style='width:300px; height:20px; vertical-align: middle;'></progress>\n      [85/85 00:01]\n    </div>\n    ",
            "text/plain": "<IPython.core.display.HTML object>"
          },
          "metadata": {},
          "output_type": "display_data"
        },
        {
          "name": "stdout",
          "output_type": "stream",
          "text": "Evaluation Results: {'eval_loss': 2.032716989517212, 'eval_runtime': 1.8131, 'eval_samples_per_second': 375.046, 'eval_steps_per_second': 46.881}\n>>> Perplexity: 7.63\n"
        }
      ]
    },
    {
      "metadata": {
        "id": "khTsawlgGL4k"
      },
      "cell_type": "markdown",
      "source": [
        "# **conduct training**"
      ]
    },
    {
      "metadata": {
        "colab": {
          "base_uri": "https://localhost:8080/",
          "height": 225
        },
        "id": "c5je8UfKIxHI",
        "outputId": "2f438afe-8ed2-4093-a321-df6982e3e0ef",
        "trusted": false
      },
      "cell_type": "code",
      "source": [
        "trainer.train()"
      ],
      "execution_count": null,
      "outputs": [
        {
          "data": {
            "text/html": "\n    <div>\n      \n      <progress value='2550' max='2550' style='width:300px; height:20px; vertical-align: middle;'></progress>\n      [2550/2550 03:06, Epoch 3/3]\n    </div>\n    <table border=\"1\" class=\"dataframe\">\n  <thead>\n <tr style=\"text-align: left;\">\n      <th>Epoch</th>\n      <th>Training Loss</th>\n      <th>Validation Loss</th>\n    </tr>\n  </thead>\n  <tbody>\n    <tr>\n      <td>1</td>\n      <td>1.912600</td>\n      <td>1.848906</td>\n    </tr>\n    <tr>\n      <td>2</td>\n      <td>1.801400</td>\n      <td>1.716170</td>\n    </tr>\n    <tr>\n      <td>3</td>\n      <td>1.710400</td>\n      <td>1.679504</td>\n    </tr>\n  </tbody>\n</table><p>",
            "text/plain": "<IPython.core.display.HTML object>"
          },
          "metadata": {},
          "output_type": "display_data"
        },
        {
          "data": {
            "text/html": "\n    <div>\n      \n      <progress value='170' max='85' style='width:300px; height:20px; vertical-align: middle;'></progress>\n      [85/85 01:08]\n    </div>\n    ",
            "text/plain": "<IPython.core.display.HTML object>"
          },
          "metadata": {},
          "output_type": "display_data"
        },
        {
          "data": {
            "text/plain": "TrainOutput(global_step=2550, training_loss=1.808134957107843, metrics={'train_runtime': 186.1239, 'train_samples_per_second': 109.604, 'train_steps_per_second': 13.701, 'total_flos': 666306714009600.0, 'train_loss': 1.808134957107843, 'epoch': 3.0})"
          },
          "execution_count": 31,
          "metadata": {},
          "output_type": "execute_result"
        }
      ]
    },
    {
      "metadata": {
        "id": "ixAIRIlcJEnc",
        "trusted": false
      },
      "cell_type": "code",
      "source": [
        "model_path = \"models/gpt2-finetuned-fit\"\n",
        "model.save_pretrained(model_path)"
      ],
      "execution_count": null,
      "outputs": []
    },
    {
      "metadata": {
        "id": "Img_hUUjGRXf"
      },
      "cell_type": "markdown",
      "source": [
        "Calculate the perplexity for the model adapted to the domain, and observe a decrease."
      ]
    },
    {
      "metadata": {
        "colab": {
          "base_uri": "https://localhost:8080/",
          "height": 93
        },
        "id": "W1_t-D4VJcy4",
        "outputId": "24d581a0-add1-4874-98a7-36e0c5f6a792",
        "trusted": false
      },
      "cell_type": "code",
      "source": [
        "# Evaluate the model\n",
        "eval_results = trainer.evaluate()\n",
        "\n",
        "# Debug: Print the complete eval_results dictionary\n",
        "print(\"Evaluation Results:\", eval_results)\n",
        "\n",
        "# Check if 'eval_loss' key exists before calculating perplexity\n",
        "if 'eval_loss' in eval_results:\n",
        "    perplexity = math.exp(eval_results['eval_loss'])\n",
        "    print(f\">>> Perplexity: {perplexity:.2f}\")\n",
        "else:\n",
        "    print(\"The 'eval_loss' key does not exist in the evaluation results.\")"
      ],
      "execution_count": null,
      "outputs": [
        {
          "data": {
            "text/html": "\n    <div>\n      \n      <progress value='85' max='85' style='width:300px; height:20px; vertical-align: middle;'></progress>\n      [85/85 00:01]\n    </div>\n    ",
            "text/plain": "<IPython.core.display.HTML object>"
          },
          "metadata": {},
          "output_type": "display_data"
        },
        {
          "name": "stdout",
          "output_type": "stream",
          "text": "Evaluation Results: {'eval_loss': 1.6795037984848022, 'eval_runtime': 1.8119, 'eval_samples_per_second': 375.305, 'eval_steps_per_second': 46.913, 'epoch': 3.0}\n>>> Perplexity: 5.36\n"
        }
      ]
    },
    {
      "metadata": {
        "id": "SEHnpoTqGdm0"
      },
      "cell_type": "markdown",
      "source": [
        "# **Try the trained model**"
      ]
    },
    {
      "metadata": {
        "colab": {
          "base_uri": "https://localhost:8080/"
        },
        "id": "2nek5YqPJj_R",
        "outputId": "759a9dc7-df58-4a7a-8978-ccac519b25f8",
        "trusted": false
      },
      "cell_type": "code",
      "source": [
        "input_txt = \"How to stay Healthy \"\n",
        "# Tokenize the input text and create attention mask\n",
        "input_data = tokenizer(input_txt, return_tensors=\"pt\", padding=True, truncation=True)\n",
        "input_ids = input_data['input_ids'].to(device)\n",
        "attention_mask = input_data['attention_mask'].to(device)\n",
        "\n",
        "# Generate the output\n",
        "output = model.generate(input_ids, attention_mask=attention_mask, max_length=500, do_sample=True)\n",
        "\n",
        "# Decode and print the output\n",
        "print(tokenizer.decode(output[0]))\n"
      ],
      "execution_count": null,
      "outputs": [
        {
          "name": "stderr",
          "output_type": "stream",
          "text": "Setting `pad_token_id` to `eos_token_id`:50256 for open-end generation.\n"
        },
        {
          "name": "stdout",
          "output_type": "stream",
          "text": "How to stay Healthy �The truth is, the amount of time and resources that make you have to work more effectively.If you’re going to lose weight, you need to go through time of work.Think of a fat loss for five minutes of sleep. It’s about 6-8 hours per year that makes you less efficient. When you’re doing heavy lifting, you’ll be unable to eat enough calories or find ways to be efficient at achieving that goal. That means you’re less likely to want to sleep and less likely to start crunches or crunches, and more likely to start a workout. In my experience, it’s easier to get a little more than you want, and more efficient workouts, but it means that the same is not true in most places. The truth is, most people aren’t making the point that it doesn’t mean to be perfect. It’s true that you can improve only by exercising. But more importantly, it means that you don’t see how well you can do it to a lot of other people’s levels of fat and calories, the same amount of energy you do not like to train for.And it’s different than the type of training you see in the gym. It’s not about how far you progress. You probably want to get all of those workout plans working.But then, when you get them running each morning, it just says:The more time you exercise the more fat you have, the more likely you want instead of going too much, the more likely you want to improve results.One fat plan is that getting fewer.\nNo, no one, no one, no one.<|endoftext|>\n"
        }
      ]
    },
    {
      "cell_type": "code",
      "source": [
        "#Try 2\n",
        "#defining prompt\n",
        "input_txt= f\"Write me a blog post about this topic in a well structured : Revolutionary Fitness Program for the Modern Era.\"\n",
        "\n",
        "#Tokenize the prompt using eval_tokenizer\n",
        "input_data = tokenizer(input_txt, return_tensors=\"pt\", padding=True, truncation=True)\n",
        "input_ids = input_data['input_ids'].to(device)\n",
        "attention_mask = input_data['attention_mask'].to(device)\n",
        "\n",
        "#Set the model to evaluation mode\n",
        "output = model.generate(input_ids, attention_mask=attention_mask, max_length=500, do_sample=True)\n",
        "\n",
        "print(tokenizer.decode(output[0]))"
      ],
      "metadata": {
        "colab": {
          "base_uri": "https://localhost:8080/"
        },
        "id": "9E19c9D6FClK",
        "outputId": "2155be51-14e5-4197-8320-7827c4f5727f"
      },
      "execution_count": null,
      "outputs": [
        {
          "output_type": "stream",
          "name": "stderr",
          "text": [
            "Setting `pad_token_id` to `eos_token_id`:50256 for open-end generation.\n"
          ]
        },
        {
          "output_type": "stream",
          "name": "stdout",
          "text": [
            "Write me a blog post about this topic in a well structured : Revolutionary Fitness Program for the Modern Era. It’s what we need. But the way we do, we always get hit puberty. It’s just different from a workout in a few weeks of age.There is a difference in why we can’t lose more. You don’t want to lose weight if you’ve had kids. But you never can. And it’s easier when you have to figure out how to lose weight (like dropping weight).As an essential part of your program, how to set the wrong schedule is vital in your metabolism—and it just needs to be simple and simple. It’s a little hard to figure out how to do it. If you want to change your body (or lose weight when you need it, just tell yourself if your client doesn’e want to exercise too, if you can change the way she thinks on it, you can set the wrong time).If your client wants to lose weight, they might want to add some extra fat, so instead of an added stress for how to make her body. If you want to train differently when she struggles, she’ve had to add more muscle, and her clients will be able to do even bigger. And she’ll have to.If you want it, that’t have to go with a different approach to do a workout plan. She can—with extra willpower—and help her body at her fitness goal if she isn’t look too heavy, so you can improve your limits on your body weight that she believes about her body weight.The trick is you have to choose your clients. Think about how to achieve this goal. You can make the difference in an everyday workout for you. The only other option isn’t just what sets the goal you want. You can. It’t be easy. And while clients don’t want to do that, you can’t think of the trick: If you want to add muscle during an exercise, get it in their workout, you should think about it.The second method is to break it down: Start the cycle once every 3 to 8,8 to 10 minutes without losing weight.4 minutes. For example, if you set 3.1 percent of your cycle, you need to complete the cycle (with 5 minutes of exercise with 2.\n"
          ]
        }
      ]
    }
  ],
  "metadata": {
    "accelerator": "GPU",
    "colab": {
      "gpuType": "V100",
      "machine_shape": "hm",
      "provenance": [],
      "include_colab_link": true
    },
    "kernelspec": {
      "name": "python3",
      "display_name": "Python 3 (ipykernel)",
      "language": "python"
    },
    "language_info": {
      "name": "python",
      "version": "3.10.12",
      "mimetype": "text/x-python",
      "codemirror_mode": {
        "name": "ipython",
        "version": 3
      },
      "pygments_lexer": "ipython3",
      "nbconvert_exporter": "python",
      "file_extension": ".py"
    },
    "widgets": {
      "application/vnd.jupyter.widget-state+json": {
        "105d5b11da4c4e8fb3b89be67b100b63": {
          "model_module": "@jupyter-widgets/controls",
          "model_module_version": "1.5.0",
          "model_name": "ProgressStyleModel",
          "state": {
            "_model_module": "@jupyter-widgets/controls",
            "_model_module_version": "1.5.0",
            "_model_name": "ProgressStyleModel",
            "_view_count": null,
            "_view_module": "@jupyter-widgets/base",
            "_view_module_version": "1.2.0",
            "_view_name": "StyleView",
            "bar_color": null,
            "description_width": ""
          }
        },
        "29a7b56b3b48428fa77247ffb11c2746": {
          "model_module": "@jupyter-widgets/controls",
          "model_module_version": "1.5.0",
          "model_name": "HBoxModel",
          "state": {
            "_dom_classes": [],
            "_model_module": "@jupyter-widgets/controls",
            "_model_module_version": "1.5.0",
            "_model_name": "HBoxModel",
            "_view_count": null,
            "_view_module": "@jupyter-widgets/controls",
            "_view_module_version": "1.5.0",
            "_view_name": "HBoxView",
            "box_style": "",
            "children": [
              "IPY_MODEL_379e278312a94eb1be2989b051c27e5b",
              "IPY_MODEL_c921c397d1074d48b4c5166f0cfa4623",
              "IPY_MODEL_e0c9a426d16c4e94afe9800806231e97"
            ],
            "layout": "IPY_MODEL_4fb4dc61342a4868ba4fb62adfd0e0a0"
          }
        },
        "32725633a0c446e88f4a2f7b600c6481": {
          "model_module": "@jupyter-widgets/controls",
          "model_module_version": "1.5.0",
          "model_name": "DescriptionStyleModel",
          "state": {
            "_model_module": "@jupyter-widgets/controls",
            "_model_module_version": "1.5.0",
            "_model_name": "DescriptionStyleModel",
            "_view_count": null,
            "_view_module": "@jupyter-widgets/base",
            "_view_module_version": "1.2.0",
            "_view_name": "StyleView",
            "description_width": ""
          }
        },
        "379e278312a94eb1be2989b051c27e5b": {
          "model_module": "@jupyter-widgets/controls",
          "model_module_version": "1.5.0",
          "model_name": "HTMLModel",
          "state": {
            "_dom_classes": [],
            "_model_module": "@jupyter-widgets/controls",
            "_model_module_version": "1.5.0",
            "_model_name": "HTMLModel",
            "_view_count": null,
            "_view_module": "@jupyter-widgets/controls",
            "_view_module_version": "1.5.0",
            "_view_name": "HTMLView",
            "description": "",
            "description_tooltip": null,
            "layout": "IPY_MODEL_cbb9233aeb2241308476d4ce123d54ad",
            "placeholder": "​",
            "style": "IPY_MODEL_32725633a0c446e88f4a2f7b600c6481",
            "value": "Map: 100%"
          }
        },
        "3e0b7fa9d06b43abb6eaf694baf0b46d": {
          "model_module": "@jupyter-widgets/controls",
          "model_module_version": "1.5.0",
          "model_name": "FloatProgressModel",
          "state": {
            "_dom_classes": [],
            "_model_module": "@jupyter-widgets/controls",
            "_model_module_version": "1.5.0",
            "_model_name": "FloatProgressModel",
            "_view_count": null,
            "_view_module": "@jupyter-widgets/controls",
            "_view_module_version": "1.5.0",
            "_view_name": "ProgressView",
            "bar_style": "success",
            "description": "",
            "description_tooltip": null,
            "layout": "IPY_MODEL_e2d084efbd044b00891c96033c6c932e",
            "max": 1890,
            "min": 0,
            "orientation": "horizontal",
            "style": "IPY_MODEL_105d5b11da4c4e8fb3b89be67b100b63",
            "value": 1890
          }
        },
        "4524307f72034259b97a7e9a9e483646": {
          "model_module": "@jupyter-widgets/base",
          "model_module_version": "1.2.0",
          "model_name": "LayoutModel",
          "state": {
            "_model_module": "@jupyter-widgets/base",
            "_model_module_version": "1.2.0",
            "_model_name": "LayoutModel",
            "_view_count": null,
            "_view_module": "@jupyter-widgets/base",
            "_view_module_version": "1.2.0",
            "_view_name": "LayoutView",
            "align_content": null,
            "align_items": null,
            "align_self": null,
            "border": null,
            "bottom": null,
            "display": null,
            "flex": null,
            "flex_flow": null,
            "grid_area": null,
            "grid_auto_columns": null,
            "grid_auto_flow": null,
            "grid_auto_rows": null,
            "grid_column": null,
            "grid_gap": null,
            "grid_row": null,
            "grid_template_areas": null,
            "grid_template_columns": null,
            "grid_template_rows": null,
            "height": null,
            "justify_content": null,
            "justify_items": null,
            "left": null,
            "margin": null,
            "max_height": null,
            "max_width": null,
            "min_height": null,
            "min_width": null,
            "object_fit": null,
            "object_position": null,
            "order": null,
            "overflow": null,
            "overflow_x": null,
            "overflow_y": null,
            "padding": null,
            "right": null,
            "top": null,
            "visibility": null,
            "width": null
          }
        },
        "468c965cd7fe406bb1a8274e628b2bd7": {
          "model_module": "@jupyter-widgets/controls",
          "model_module_version": "1.5.0",
          "model_name": "ProgressStyleModel",
          "state": {
            "_model_module": "@jupyter-widgets/controls",
            "_model_module_version": "1.5.0",
            "_model_name": "ProgressStyleModel",
            "_view_count": null,
            "_view_module": "@jupyter-widgets/base",
            "_view_module_version": "1.2.0",
            "_view_name": "StyleView",
            "bar_color": null,
            "description_width": ""
          }
        },
        "4fb4dc61342a4868ba4fb62adfd0e0a0": {
          "model_module": "@jupyter-widgets/base",
          "model_module_version": "1.2.0",
          "model_name": "LayoutModel",
          "state": {
            "_model_module": "@jupyter-widgets/base",
            "_model_module_version": "1.2.0",
            "_model_name": "LayoutModel",
            "_view_count": null,
            "_view_module": "@jupyter-widgets/base",
            "_view_module_version": "1.2.0",
            "_view_name": "LayoutView",
            "align_content": null,
            "align_items": null,
            "align_self": null,
            "border": null,
            "bottom": null,
            "display": null,
            "flex": null,
            "flex_flow": null,
            "grid_area": null,
            "grid_auto_columns": null,
            "grid_auto_flow": null,
            "grid_auto_rows": null,
            "grid_column": null,
            "grid_gap": null,
            "grid_row": null,
            "grid_template_areas": null,
            "grid_template_columns": null,
            "grid_template_rows": null,
            "height": null,
            "justify_content": null,
            "justify_items": null,
            "left": null,
            "margin": null,
            "max_height": null,
            "max_width": null,
            "min_height": null,
            "min_width": null,
            "object_fit": null,
            "object_position": null,
            "order": null,
            "overflow": null,
            "overflow_x": null,
            "overflow_y": null,
            "padding": null,
            "right": null,
            "top": null,
            "visibility": null,
            "width": null
          }
        },
        "5152687832f04a8c9b3836318ed632e8": {
          "model_module": "@jupyter-widgets/controls",
          "model_module_version": "1.5.0",
          "model_name": "HTMLModel",
          "state": {
            "_dom_classes": [],
            "_model_module": "@jupyter-widgets/controls",
            "_model_module_version": "1.5.0",
            "_model_name": "HTMLModel",
            "_view_count": null,
            "_view_module": "@jupyter-widgets/controls",
            "_view_module_version": "1.5.0",
            "_view_name": "HTMLView",
            "description": "",
            "description_tooltip": null,
            "layout": "IPY_MODEL_de1dc3905edf4737ab8f62773699467d",
            "placeholder": "​",
            "style": "IPY_MODEL_f26ed3c3b06e4c528d72a1702f1deac4",
            "value": " 1890/1890 [00:00&lt;00:00, 2612.28 examples/s]"
          }
        },
        "541dfd4580ac4ed29fb05d5ff5dfdcfe": {
          "model_module": "@jupyter-widgets/controls",
          "model_module_version": "1.5.0",
          "model_name": "DescriptionStyleModel",
          "state": {
            "_model_module": "@jupyter-widgets/controls",
            "_model_module_version": "1.5.0",
            "_model_name": "DescriptionStyleModel",
            "_view_count": null,
            "_view_module": "@jupyter-widgets/base",
            "_view_module_version": "1.2.0",
            "_view_name": "StyleView",
            "description_width": ""
          }
        },
        "560b8594f1fc4201a97144991622ffc3": {
          "model_module": "@jupyter-widgets/base",
          "model_module_version": "1.2.0",
          "model_name": "LayoutModel",
          "state": {
            "_model_module": "@jupyter-widgets/base",
            "_model_module_version": "1.2.0",
            "_model_name": "LayoutModel",
            "_view_count": null,
            "_view_module": "@jupyter-widgets/base",
            "_view_module_version": "1.2.0",
            "_view_name": "LayoutView",
            "align_content": null,
            "align_items": null,
            "align_self": null,
            "border": null,
            "bottom": null,
            "display": null,
            "flex": null,
            "flex_flow": null,
            "grid_area": null,
            "grid_auto_columns": null,
            "grid_auto_flow": null,
            "grid_auto_rows": null,
            "grid_column": null,
            "grid_gap": null,
            "grid_row": null,
            "grid_template_areas": null,
            "grid_template_columns": null,
            "grid_template_rows": null,
            "height": null,
            "justify_content": null,
            "justify_items": null,
            "left": null,
            "margin": null,
            "max_height": null,
            "max_width": null,
            "min_height": null,
            "min_width": null,
            "object_fit": null,
            "object_position": null,
            "order": null,
            "overflow": null,
            "overflow_x": null,
            "overflow_y": null,
            "padding": null,
            "right": null,
            "top": null,
            "visibility": null,
            "width": null
          }
        },
        "889847b3577e4e9b93eaad82d735d857": {
          "model_module": "@jupyter-widgets/controls",
          "model_module_version": "1.5.0",
          "model_name": "HTMLModel",
          "state": {
            "_dom_classes": [],
            "_model_module": "@jupyter-widgets/controls",
            "_model_module_version": "1.5.0",
            "_model_name": "HTMLModel",
            "_view_count": null,
            "_view_module": "@jupyter-widgets/controls",
            "_view_module_version": "1.5.0",
            "_view_name": "HTMLView",
            "description": "",
            "description_tooltip": null,
            "layout": "IPY_MODEL_bf59ec1bc19644459a950d9bbbfaf649",
            "placeholder": "​",
            "style": "IPY_MODEL_541dfd4580ac4ed29fb05d5ff5dfdcfe",
            "value": "Map: 100%"
          }
        },
        "8b77b526bf09408681e41331e33f80bd": {
          "model_module": "@jupyter-widgets/base",
          "model_module_version": "1.2.0",
          "model_name": "LayoutModel",
          "state": {
            "_model_module": "@jupyter-widgets/base",
            "_model_module_version": "1.2.0",
            "_model_name": "LayoutModel",
            "_view_count": null,
            "_view_module": "@jupyter-widgets/base",
            "_view_module_version": "1.2.0",
            "_view_name": "LayoutView",
            "align_content": null,
            "align_items": null,
            "align_self": null,
            "border": null,
            "bottom": null,
            "display": null,
            "flex": null,
            "flex_flow": null,
            "grid_area": null,
            "grid_auto_columns": null,
            "grid_auto_flow": null,
            "grid_auto_rows": null,
            "grid_column": null,
            "grid_gap": null,
            "grid_row": null,
            "grid_template_areas": null,
            "grid_template_columns": null,
            "grid_template_rows": null,
            "height": null,
            "justify_content": null,
            "justify_items": null,
            "left": null,
            "margin": null,
            "max_height": null,
            "max_width": null,
            "min_height": null,
            "min_width": null,
            "object_fit": null,
            "object_position": null,
            "order": null,
            "overflow": null,
            "overflow_x": null,
            "overflow_y": null,
            "padding": null,
            "right": null,
            "top": null,
            "visibility": null,
            "width": null
          }
        },
        "bf59ec1bc19644459a950d9bbbfaf649": {
          "model_module": "@jupyter-widgets/base",
          "model_module_version": "1.2.0",
          "model_name": "LayoutModel",
          "state": {
            "_model_module": "@jupyter-widgets/base",
            "_model_module_version": "1.2.0",
            "_model_name": "LayoutModel",
            "_view_count": null,
            "_view_module": "@jupyter-widgets/base",
            "_view_module_version": "1.2.0",
            "_view_name": "LayoutView",
            "align_content": null,
            "align_items": null,
            "align_self": null,
            "border": null,
            "bottom": null,
            "display": null,
            "flex": null,
            "flex_flow": null,
            "grid_area": null,
            "grid_auto_columns": null,
            "grid_auto_flow": null,
            "grid_auto_rows": null,
            "grid_column": null,
            "grid_gap": null,
            "grid_row": null,
            "grid_template_areas": null,
            "grid_template_columns": null,
            "grid_template_rows": null,
            "height": null,
            "justify_content": null,
            "justify_items": null,
            "left": null,
            "margin": null,
            "max_height": null,
            "max_width": null,
            "min_height": null,
            "min_width": null,
            "object_fit": null,
            "object_position": null,
            "order": null,
            "overflow": null,
            "overflow_x": null,
            "overflow_y": null,
            "padding": null,
            "right": null,
            "top": null,
            "visibility": null,
            "width": null
          }
        },
        "c921c397d1074d48b4c5166f0cfa4623": {
          "model_module": "@jupyter-widgets/controls",
          "model_module_version": "1.5.0",
          "model_name": "FloatProgressModel",
          "state": {
            "_dom_classes": [],
            "_model_module": "@jupyter-widgets/controls",
            "_model_module_version": "1.5.0",
            "_model_name": "FloatProgressModel",
            "_view_count": null,
            "_view_module": "@jupyter-widgets/controls",
            "_view_module_version": "1.5.0",
            "_view_name": "ProgressView",
            "bar_style": "success",
            "description": "",
            "description_tooltip": null,
            "layout": "IPY_MODEL_4524307f72034259b97a7e9a9e483646",
            "max": 1890,
            "min": 0,
            "orientation": "horizontal",
            "style": "IPY_MODEL_468c965cd7fe406bb1a8274e628b2bd7",
            "value": 1890
          }
        },
        "cba4ce3571964f1c9ac77a1199935447": {
          "model_module": "@jupyter-widgets/controls",
          "model_module_version": "1.5.0",
          "model_name": "DescriptionStyleModel",
          "state": {
            "_model_module": "@jupyter-widgets/controls",
            "_model_module_version": "1.5.0",
            "_model_name": "DescriptionStyleModel",
            "_view_count": null,
            "_view_module": "@jupyter-widgets/base",
            "_view_module_version": "1.2.0",
            "_view_name": "StyleView",
            "description_width": ""
          }
        },
        "cbb9233aeb2241308476d4ce123d54ad": {
          "model_module": "@jupyter-widgets/base",
          "model_module_version": "1.2.0",
          "model_name": "LayoutModel",
          "state": {
            "_model_module": "@jupyter-widgets/base",
            "_model_module_version": "1.2.0",
            "_model_name": "LayoutModel",
            "_view_count": null,
            "_view_module": "@jupyter-widgets/base",
            "_view_module_version": "1.2.0",
            "_view_name": "LayoutView",
            "align_content": null,
            "align_items": null,
            "align_self": null,
            "border": null,
            "bottom": null,
            "display": null,
            "flex": null,
            "flex_flow": null,
            "grid_area": null,
            "grid_auto_columns": null,
            "grid_auto_flow": null,
            "grid_auto_rows": null,
            "grid_column": null,
            "grid_gap": null,
            "grid_row": null,
            "grid_template_areas": null,
            "grid_template_columns": null,
            "grid_template_rows": null,
            "height": null,
            "justify_content": null,
            "justify_items": null,
            "left": null,
            "margin": null,
            "max_height": null,
            "max_width": null,
            "min_height": null,
            "min_width": null,
            "object_fit": null,
            "object_position": null,
            "order": null,
            "overflow": null,
            "overflow_x": null,
            "overflow_y": null,
            "padding": null,
            "right": null,
            "top": null,
            "visibility": null,
            "width": null
          }
        },
        "de1dc3905edf4737ab8f62773699467d": {
          "model_module": "@jupyter-widgets/base",
          "model_module_version": "1.2.0",
          "model_name": "LayoutModel",
          "state": {
            "_model_module": "@jupyter-widgets/base",
            "_model_module_version": "1.2.0",
            "_model_name": "LayoutModel",
            "_view_count": null,
            "_view_module": "@jupyter-widgets/base",
            "_view_module_version": "1.2.0",
            "_view_name": "LayoutView",
            "align_content": null,
            "align_items": null,
            "align_self": null,
            "border": null,
            "bottom": null,
            "display": null,
            "flex": null,
            "flex_flow": null,
            "grid_area": null,
            "grid_auto_columns": null,
            "grid_auto_flow": null,
            "grid_auto_rows": null,
            "grid_column": null,
            "grid_gap": null,
            "grid_row": null,
            "grid_template_areas": null,
            "grid_template_columns": null,
            "grid_template_rows": null,
            "height": null,
            "justify_content": null,
            "justify_items": null,
            "left": null,
            "margin": null,
            "max_height": null,
            "max_width": null,
            "min_height": null,
            "min_width": null,
            "object_fit": null,
            "object_position": null,
            "order": null,
            "overflow": null,
            "overflow_x": null,
            "overflow_y": null,
            "padding": null,
            "right": null,
            "top": null,
            "visibility": null,
            "width": null
          }
        },
        "e0c9a426d16c4e94afe9800806231e97": {
          "model_module": "@jupyter-widgets/controls",
          "model_module_version": "1.5.0",
          "model_name": "HTMLModel",
          "state": {
            "_dom_classes": [],
            "_model_module": "@jupyter-widgets/controls",
            "_model_module_version": "1.5.0",
            "_model_name": "HTMLModel",
            "_view_count": null,
            "_view_module": "@jupyter-widgets/controls",
            "_view_module_version": "1.5.0",
            "_view_name": "HTMLView",
            "description": "",
            "description_tooltip": null,
            "layout": "IPY_MODEL_560b8594f1fc4201a97144991622ffc3",
            "placeholder": "​",
            "style": "IPY_MODEL_cba4ce3571964f1c9ac77a1199935447",
            "value": " 1890/1890 [00:04&lt;00:00, 410.73 examples/s]"
          }
        },
        "e2d084efbd044b00891c96033c6c932e": {
          "model_module": "@jupyter-widgets/base",
          "model_module_version": "1.2.0",
          "model_name": "LayoutModel",
          "state": {
            "_model_module": "@jupyter-widgets/base",
            "_model_module_version": "1.2.0",
            "_model_name": "LayoutModel",
            "_view_count": null,
            "_view_module": "@jupyter-widgets/base",
            "_view_module_version": "1.2.0",
            "_view_name": "LayoutView",
            "align_content": null,
            "align_items": null,
            "align_self": null,
            "border": null,
            "bottom": null,
            "display": null,
            "flex": null,
            "flex_flow": null,
            "grid_area": null,
            "grid_auto_columns": null,
            "grid_auto_flow": null,
            "grid_auto_rows": null,
            "grid_column": null,
            "grid_gap": null,
            "grid_row": null,
            "grid_template_areas": null,
            "grid_template_columns": null,
            "grid_template_rows": null,
            "height": null,
            "justify_content": null,
            "justify_items": null,
            "left": null,
            "margin": null,
            "max_height": null,
            "max_width": null,
            "min_height": null,
            "min_width": null,
            "object_fit": null,
            "object_position": null,
            "order": null,
            "overflow": null,
            "overflow_x": null,
            "overflow_y": null,
            "padding": null,
            "right": null,
            "top": null,
            "visibility": null,
            "width": null
          }
        },
        "e4d9778fa6ab417581d445188017e1e9": {
          "model_module": "@jupyter-widgets/controls",
          "model_module_version": "1.5.0",
          "model_name": "HBoxModel",
          "state": {
            "_dom_classes": [],
            "_model_module": "@jupyter-widgets/controls",
            "_model_module_version": "1.5.0",
            "_model_name": "HBoxModel",
            "_view_count": null,
            "_view_module": "@jupyter-widgets/controls",
            "_view_module_version": "1.5.0",
            "_view_name": "HBoxView",
            "box_style": "",
            "children": [
              "IPY_MODEL_889847b3577e4e9b93eaad82d735d857",
              "IPY_MODEL_3e0b7fa9d06b43abb6eaf694baf0b46d",
              "IPY_MODEL_5152687832f04a8c9b3836318ed632e8"
            ],
            "layout": "IPY_MODEL_8b77b526bf09408681e41331e33f80bd"
          }
        },
        "f26ed3c3b06e4c528d72a1702f1deac4": {
          "model_module": "@jupyter-widgets/controls",
          "model_module_version": "1.5.0",
          "model_name": "DescriptionStyleModel",
          "state": {
            "_model_module": "@jupyter-widgets/controls",
            "_model_module_version": "1.5.0",
            "_model_name": "DescriptionStyleModel",
            "_view_count": null,
            "_view_module": "@jupyter-widgets/base",
            "_view_module_version": "1.2.0",
            "_view_name": "StyleView",
            "description_width": ""
          }
        }
      }
    }
  },
  "nbformat": 4,
  "nbformat_minor": 0
}