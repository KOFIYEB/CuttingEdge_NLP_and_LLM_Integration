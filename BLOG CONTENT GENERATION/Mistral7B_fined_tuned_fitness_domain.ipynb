{
  "cells": [
    {
      "metadata": {
        "id": "2Ofi_7AZVVuF"
      },
      "cell_type": "markdown",
      "source": [
        "# **FINE- TUNING MISTRAL 7B FOR A BLOG POST**\n",
        "\n",
        "---\n",
        "\n"
      ]
    },
    {
      "metadata": {
        "id": "Y_oYalPZUSMp"
      },
      "cell_type": "markdown",
      "source": [
        "This project is particular to the fitness domain. To fine-tune a more capable** Mistral 7B** without encountering out-of-memory (OOM) errors on limited-capacity hardware, we loaded the large model, **Mistral 7B**, in 4  using bitsandbytes. More importantly, the QLoRA method was employed using the PEFT library from Hugging Face. This innovative technique updates only the essential low-rank approximations instead of the entire weight matrix, minimizing the memory requirements and enabling the use of less powerful GPUs for the fine-tuning process.\n",
        "\n",
        "The entire project was done on Google Collab Pro using the A100 GPU for less than 40 Euros\n",
        "\n",
        "\n",
        "\n"
      ]
    },
    {
      "metadata": {
        "id": "Xmw9ssZnLYoj"
      },
      "cell_type": "markdown",
      "source": [
        "# **Loading packages and setting up the environment**"
      ]
    },
    {
      "metadata": {
        "id": "77LYAVCdO5rI"
      },
      "cell_type": "markdown",
      "source": [
        "To avoid UTF-8 errors when using the notebook for the project, the environment needs to be set up first. Also, restart the kennel after the \"accelerate -U\" installation pip to avoid further errors."
      ]
    },
    {
      "metadata": {
        "id": "xITwSQkf-RjY",
        "trusted": false
      },
      "cell_type": "code",
      "source": [
        "%env LC_ALL=en_US.UTF-8\n",
        "%env LC_CTYPE=en_US.UTF-8\n",
        "%env LANG=en_US.UTF-8\n"
      ],
      "execution_count": null,
      "outputs": []
    },
    {
      "metadata": {
        "id": "dFaxkb47Nc3s",
        "trusted": false
      },
      "cell_type": "code",
      "source": [
        "!pip install accelerate -U\n",
        "!pip install transformers\n",
        "!pip install diffusers[\"torch\"]\n",
        "!pip install diffusers --upgrade\n",
        "!pip install -q wandb -U"
      ],
      "execution_count": null,
      "outputs": []
    },
    {
      "metadata": {
        "id": "0FnKuEYVN29g",
        "trusted": false
      },
      "cell_type": "code",
      "source": [
        "pip install fastapi kaleido python-multipart uvicorn"
      ],
      "execution_count": null,
      "outputs": []
    },
    {
      "metadata": {
        "id": "jn-0ncfVOTdD",
        "trusted": false
      },
      "cell_type": "code",
      "source": [
        "!pip install -q -U bitsandbytes\n",
        "!pip install -q -U git+https://github.com/huggingface/transformers.git\n",
        "!pip install -q -U git+https://github.com/huggingface/peft.git\n",
        "!pip install -q -U git+https://github.com/huggingface/accelerate.git\n",
        "!pip install -q -U datasets scipy ipywidgets matplotlib"
      ],
      "execution_count": null,
      "outputs": []
    },
    {
      "cell_type": "code",
      "source": [
        "from datasets import load_dataset\n",
        "from datetime import datetime\n",
        "from transformers import AutoTokenizer, AutoModelForCausalLM, BitsAndBytesConfig\n",
        "from peft import prepare_model_for_kbit_training\n",
        "from peft import LoraConfig, get_peft_model\n",
        "from google.colab import drive\n",
        "from peft import PeftModel"
      ],
      "metadata": {
        "id": "nvmVLL_QV_aL"
      },
      "execution_count": null,
      "outputs": []
    },
    {
      "cell_type": "code",
      "source": [
        "import wandb, os\n",
        "import torch\n",
        "import matplotlib.pyplot as plt\n",
        "import transformers\n",
        "import shutil"
      ],
      "metadata": {
        "id": "O2ExXsqLWEA0"
      },
      "execution_count": null,
      "outputs": []
    },
    {
      "metadata": {
        "id": "8T5t_0SgLRyy"
      },
      "cell_type": "markdown",
      "source": [
        "# **Loading data**"
      ]
    },
    {
      "metadata": {
        "id": "atnN4iL3Xqww"
      },
      "cell_type": "markdown",
      "source": [
        "No preprocessing was actually required here since data was manually compiled into three columns: **main topic, sub-topic, and content**. A fourth column was also added, namely **'combined'**, to account for missing values if any in the main topic and sub-topic by combining them.\n",
        "\n",
        "The data was categorically collected in this manner for the purpose of our study. The intention is to generate content for the main- topic and sub-topic that are fed into the prompt. Not to confuse the AI, it makes it easier to collect data in such a structure for the purpose of this project. However, one can use traditional input and output like  ;\n",
        "\n",
        "{\"input\": \"Where is Ghana?\", \"output\": \"Ghana is in West Africa\"}\n",
        "\n",
        "{\"input\": \"What is the capital of Ghana?\", \"output\": \"Accra is the capital of Ghana\"}"
      ]
    },
    {
      "metadata": {
        "id": "mEky90n-v2qh",
        "trusted": false
      },
      "cell_type": "code",
      "source": [
        "# data source\n",
        "#https://www.acefitness.org/resources/pros/expert-articles/\n",
        "#https://www.healthline.com/fitness\n",
        "#https://www.bornfitness.com/category/fitness/"
      ],
      "execution_count": null,
      "outputs": []
    },
    {
      "metadata": {
        "id": "Dy1kuy7TOeex",
        "colab": {
          "base_uri": "https://localhost:8080/",
          "height": 17,
          "referenced_widgets": [
            "04a5a68f0f3b41b0b0ae52ce832b8586",
            "36553b7b71fd40a2ad6cc00fa6c58a86",
            "6402e38116864e9cb4a7f27b9db2b38a",
            "09e6e274dcb8435bb85b19fbbe15680e",
            "f64a23bf573d463e925465ef41d9c664",
            "e0887f50c93241dc8bf1aa25b45d38f4",
            "b89aa0e4d2ae45ae94658fecb5ab2249",
            "98860d92bf914fd6a09c094886879853",
            "e18b8ee66a254a6aa750b7b624252336",
            "daad29d0773c46f59aa24f1a42fbe947",
            "284f7bcb7ec44a4eb94c67a4a12c5e38",
            "dce862ee42b24a8f929c41aea8018d7a",
            "77ad73bec4c34a4fae9c3ecdc40c84cb",
            "7c3873ae30324744951dbb09c24e8cba",
            "60bafb942748461ead2ba72b6e978df2",
            "f9a0d0e999294d71bdabc1f21a30ac56",
            "e05015c610b5492bad3180c7dcbeafa5",
            "592a3e5cd862489c939e72e7c3fd1e6c",
            "3abe5395267c42d7acd68565684cc744",
            "1f4518605dc54cdc9081662eef654343",
            "9ef7910ec3234b01a9ddf4b2d6eed0d9",
            "22ed9a4a6b9f405190e5df1c0579ea38"
          ]
        },
        "outputId": "8501f364-38b1-45db-9872-920320e25281",
        "trusted": false
      },
      "cell_type": "code",
      "source": [
        "train_dataset = load_dataset('json', data_files='train_set.jsonl', split='train')\n",
        "eval_dataset = load_dataset('json', data_files='test_set.jsonl', split='train')"
      ],
      "execution_count": null,
      "outputs": [
        {
          "output_type": "display_data",
          "data": {
            "text/plain": "Generating train split: 0 examples [00:00, ? examples/s]",
            "application/vnd.jupyter.widget-view+json": {
              "version_major": 2,
              "version_minor": 0,
              "model_id": "04a5a68f0f3b41b0b0ae52ce832b8586"
            }
          },
          "metadata": {}
        },
        {
          "output_type": "display_data",
          "data": {
            "text/plain": "Generating train split: 0 examples [00:00, ? examples/s]",
            "application/vnd.jupyter.widget-view+json": {
              "version_major": 2,
              "version_minor": 0,
              "model_id": "dce862ee42b24a8f929c41aea8018d7a"
            }
          },
          "metadata": {}
        }
      ]
    },
    {
      "metadata": {
        "id": "8UrcoI8LkEqP"
      },
      "cell_type": "markdown",
      "source": [
        "### **Accelerator**"
      ]
    },
    {
      "metadata": {
        "id": "iKtVLyAeQV0G"
      },
      "cell_type": "markdown",
      "source": [
        "Step up an accelerator for training huge models on larger batch sizes, we can use a fully sharded data parallel model. This type of data parallel paradigm enables fitting more data and larger models by sharding the optimizer states, gradients, and parameters. It not entiely clear if this is needed for QLora but certainly has no adverse effect on the model."
      ]
    },
    {
      "metadata": {
        "id": "-SYuiChROsj0",
        "trusted": false
      },
      "cell_type": "code",
      "source": [
        "from accelerate import FullyShardedDataParallelPlugin, Accelerator\n",
        "from torch.distributed.fsdp.fully_sharded_data_parallel import FullOptimStateDictConfig, FullStateDictConfig\n",
        "\n",
        "fsdp_plugin = FullyShardedDataParallelPlugin(\n",
        "    state_dict_config=FullStateDictConfig(offload_to_cpu=True, rank0_only=False),\n",
        "    optim_state_dict_config=FullOptimStateDictConfig(offload_to_cpu=True, rank0_only=False),\n",
        ")\n",
        "\n",
        "accelerator = Accelerator(fsdp_plugin=fsdp_plugin)"
      ],
      "execution_count": null,
      "outputs": []
    },
    {
      "metadata": {
        "id": "E72XY5TBRU6O"
      },
      "cell_type": "markdown",
      "source": [
        "Weights & Biases can be used to track our training metrics and system performance. The API can be applied for when prompted which is free and highly recommended when working on such models"
      ]
    },
    {
      "metadata": {
        "colab": {
          "base_uri": "https://localhost:8080/"
        },
        "id": "BHz8-lQoXsb6",
        "outputId": "02fb51bc-cdbc-4442-bb8a-8a46ebee689d",
        "trusted": false
      },
      "cell_type": "code",
      "source": [
        "wandb.login()\n",
        "\n",
        "wandb_project = \"journal-finetune\"\n",
        "if len(wandb_project) > 0:\n",
        "    os.environ[\"WANDB_PROJECT\"] = wandb_project"
      ],
      "execution_count": null,
      "outputs": [
        {
          "output_type": "stream",
          "name": "stderr",
          "text": "\u001b[34m\u001b[1mwandb\u001b[0m: Currently logged in as: \u001b[33myeboah-amoabeng\u001b[0m (\u001b[33myeboah\u001b[0m). Use \u001b[1m`wandb login --relogin`\u001b[0m to force relogin\n"
        }
      ]
    },
    {
      "metadata": {
        "id": "NL_OL8L_ke8E"
      },
      "cell_type": "markdown",
      "source": [
        "### **Formatting prompts**"
      ]
    },
    {
      "metadata": {
        "id": "6hK1rE6IR-AB"
      },
      "cell_type": "markdown",
      "source": [
        "we then create a **formatting_func** as prompt to test drive the base model"
      ]
    },
    {
      "metadata": {
        "id": "od7XPqy4O-DE",
        "trusted": false
      },
      "cell_type": "code",
      "source": [
        "def formatting_func(example):\n",
        "    text = f\"### Write me a blog post about this topic: {example['content']}\"\n",
        "    return text"
      ],
      "execution_count": null,
      "outputs": []
    },
    {
      "metadata": {
        "id": "mcNs7rQKSrWh"
      },
      "cell_type": "markdown",
      "source": [
        "Even though I am running the whole project in Google Collab Pro with an A100 GPU, I still deem it necessary to set up my device."
      ]
    },
    {
      "metadata": {
        "colab": {
          "base_uri": "https://localhost:8080/"
        },
        "id": "UpPRtXPrPccK",
        "outputId": "77621c6f-a35c-4ecf-84c0-d3f4a01eea2e",
        "trusted": false
      },
      "cell_type": "code",
      "source": [
        "device = torch.device(\"cuda\" if torch.cuda.is_available() else \"cpu\")\n",
        "device"
      ],
      "execution_count": null,
      "outputs": [
        {
          "output_type": "execute_result",
          "data": {
            "text/plain": "device(type='cuda')"
          },
          "metadata": {},
          "execution_count": 4
        }
      ]
    },
    {
      "metadata": {
        "id": "HbXydI3Qkv3c"
      },
      "cell_type": "markdown",
      "source": [
        "### **Load Base Model**"
      ]
    },
    {
      "metadata": {
        "id": "23mrLY_uTPXU"
      },
      "cell_type": "markdown",
      "source": [
        "we now load the based model, **Mistral-7B-v0.1** ,using 4-bit quantization."
      ]
    },
    {
      "metadata": {
        "id": "KqufqsYTPNCg",
        "trusted": false
      },
      "cell_type": "code",
      "source": [
        "base_model_id = \"mistralai/Mistral-7B-v0.1\"\n",
        "bnb_config = BitsAndBytesConfig(\n",
        "    load_in_4bit=True,\n",
        "    bnb_4bit_use_double_quant=True,\n",
        "    bnb_4bit_quant_type=\"nf4\",\n",
        "    bnb_4bit_compute_dtype=torch.bfloat16\n",
        ")\n",
        "\n",
        "model = AutoModelForCausalLM.from_pretrained(base_model_id, quantization_config=bnb_config, device_map=\"auto\")"
      ],
      "execution_count": null,
      "outputs": []
    },
    {
      "metadata": {
        "id": "Ibc5wiJLk5bu"
      },
      "cell_type": "markdown",
      "source": [
        "### **Tokenization**"
      ]
    },
    {
      "metadata": {
        "id": "4sQ6wrZUa7Rr"
      },
      "cell_type": "markdown",
      "source": [
        "To analyze the distribution of data lengths and optimize memory usage during training, it's essential to first tokenize your dataset without applying truncation or padding. This initial step allows you to understand the length distribution of your data. Once you have this distribution, you can set an appropriate **\"model_max_length\" **for your tokenizer. This value should be chosen based on the length distribution to efficiently handle the majority of your data without excessive padding or truncation."
      ]
    },
    {
      "metadata": {
        "id": "2wSEQ7LJPRhL",
        "trusted": false
      },
      "cell_type": "code",
      "source": [
        "tokenizer = AutoTokenizer.from_pretrained(\n",
        "    base_model_id,\n",
        "    padding_side=\"left\",\n",
        "    add_eos_token=True,\n",
        "    add_bos_token=True,\n",
        ")\n",
        "tokenizer.pad_token = tokenizer.eos_token\n",
        "\n",
        "def generate_and_tokenize_prompt(prompt):\n",
        "    return tokenizer(formatting_func(prompt))"
      ],
      "execution_count": null,
      "outputs": []
    },
    {
      "metadata": {
        "id": "WMBlEPlLbi9v"
      },
      "cell_type": "markdown",
      "source": [
        "**Reformat the prompt and tokenize each sample.** To prepare your data for processing, begin by reformatting each sentence in the dataset. Following this, tokenize each reformatted sample. This approach involves two key steps: first, adjust the structure or format of each sentence to ensure consistency and suitability for your specific task; second, apply a tokenizer to each of these reformatted sentences. This process transforms your textual data into a format that is compatible with machine learning models, facilitating effective analysis or training."
      ]
    },
    {
      "metadata": {
        "id": "F_9YxgkiPZbn",
        "trusted": false
      },
      "cell_type": "code",
      "source": [
        "tokenized_train_dataset = train_dataset.map(generate_and_tokenize_prompt)\n",
        "tokenized_val_dataset = eval_dataset.map(generate_and_tokenize_prompt)"
      ],
      "execution_count": null,
      "outputs": []
    },
    {
      "metadata": {
        "id": "nLC401yMdVHn"
      },
      "cell_type": "markdown",
      "source": [
        "Visualizing the length of the data"
      ]
    },
    {
      "metadata": {
        "colab": {
          "base_uri": "https://localhost:8080/",
          "height": 582
        },
        "id": "ivX6qdFkPoTj",
        "outputId": "f1e82407-1bba-40bb-91a1-3581b3b39a9c",
        "trusted": false
      },
      "cell_type": "code",
      "source": [
        "def plot_data_lengths(tokenized_train_dataset, tokenized_val_dataset):\n",
        "    lengths = [len(x['input_ids']) for x in tokenized_train_dataset]\n",
        "    lengths += [len(x['input_ids']) for x in tokenized_val_dataset]\n",
        "    print(len(lengths))\n",
        "\n",
        "    # Plotting the histogram\n",
        "    plt.figure(figsize=(10, 6))\n",
        "    plt.hist(lengths, bins=20, alpha=0.7, color='blue')\n",
        "    plt.xlabel('Length of input_ids')\n",
        "    plt.ylabel('Frequency')\n",
        "    plt.title('Distribution of Lengths of input_ids')\n",
        "    plt.show()\n",
        "\n",
        "plot_data_lengths(tokenized_train_dataset, tokenized_val_dataset)"
      ],
      "execution_count": null,
      "outputs": [
        {
          "output_type": "stream",
          "name": "stdout",
          "text": "1890\n"
        },
        {
          "output_type": "display_data",
          "data": {
            "text/plain": "<Figure size 1000x600 with 1 Axes>",
            "image/png": "[encoded data removed]"
          },
          "metadata": {}
        }
      ]
    },
    {
      "metadata": {
        "id": "uRQvTK4WcUX8"
      },
      "cell_type": "markdown",
      "source": [
        "The histogram of token lengths underscores the necessity of choosing an optimal max_length for our input tensors, which will be a balance between preserving information and computational efficiency. Given the skewed distribution towards shorter lengths, a judicious max_length can be selected that minimizes truncation while accommodating the majority of the data, thus ensuring minimal loss of content. This approach is reinforced by the careful preprocessing of the dataset, where samples were standardized in length by segmenting longer texts, with special care taken to not disrupt word or sentence integrity, thus facilitating a more efficient and coherent training process."
      ]
    },
    {
      "metadata": {
        "id": "8sSXMm_7dtmA"
      },
      "cell_type": "markdown",
      "source": [
        "For self-supervised fine-tuning, let's proceed with tokenization by applying both padding and truncation. This step ensures uniformity in token length across all samples. Additionally, configure the tokenization function to generate identical 'input_ids' and 'labels'. In self-supervised learning, this approach is common as it enables the model to predict the next token in a sequence or reconstruct the input, using its own outputs as training targets. This method of tokenization is a key component in preparing your data for self-supervised fine-tuning."
      ]
    },
    {
      "metadata": {
        "id": "gHaAeHkxP0hQ",
        "trusted": false
      },
      "cell_type": "code",
      "source": [
        "max_length = 512 # This was an appropriate max length for my dataset\n",
        "\n",
        "def generate_and_tokenize_prompt2(prompt):\n",
        "    result = tokenizer(\n",
        "        formatting_func(prompt),\n",
        "        truncation=True,\n",
        "        max_length=max_length,\n",
        "        padding=\"max_length\",\n",
        "    )\n",
        "    result[\"labels\"] = result[\"input_ids\"].copy()\n",
        "    return result"
      ],
      "execution_count": null,
      "outputs": []
    },
    {
      "metadata": {
        "id": "EyluslTWP2Uv",
        "trusted": false
      },
      "cell_type": "code",
      "source": [
        "tokenized_train_dataset = train_dataset.map(generate_and_tokenize_prompt2)\n",
        "tokenized_val_dataset = eval_dataset.map(generate_and_tokenize_prompt2)"
      ],
      "execution_count": null,
      "outputs": []
    },
    {
      "metadata": {
        "id": "QD9y7aROe9Te"
      },
      "cell_type": "markdown",
      "source": [
        "Ensure that in your tokenization setup, input_ids are left-padded with the eos_token (typically denoted as 2), and also include an eos_token at the end of each sequence. Additionally, each sequence should begin with a bos_token (commonly represented as 1). This structure is crucial for maintaining consistency in sequence representation, where the bos_token marks the beginning, and eos_token signifies both padding and the end of the sequence. This setup is essential for training models effectively, particularly in language modeling tasks."
      ]
    },
    {
      "metadata": {
        "id": "raMT1Ob4P7mt",
        "colab": {
          "base_uri": "https://localhost:8080/"
        },
        "outputId": "cfd77dcb-370e-46ab-b275-bdd14add54a7",
        "trusted": false
      },
      "cell_type": "code",
      "source": [
        "print(tokenized_train_dataset[1]['input_ids'])"
      ],
      "execution_count": null,
      "outputs": [
        {
          "output_type": "stream",
          "name": "stdout",
          "text": "[2, 2, 2, 2, 2, 2, 2, 2, 2, 2, 2, 2, 2, 2, 2, 2, 2, 2, 2, 2, 2, 2, 2, 2, 2, 2, 2, 2, 2, 2, 2, 2, 2, 2, 2, 2, 2, 2, 2, 2, 2, 2, 2, 2, 2, 2, 2, 2, 2, 2, 2, 2, 2, 2, 2, 2, 2, 2, 2, 2, 2, 2, 2, 2, 2, 2, 2, 2, 2, 2, 2, 2, 2, 2, 2, 2, 2, 2, 2, 2, 2, 2, 2, 2, 2, 2, 2, 2, 2, 2, 2, 2, 2, 2, 2, 2, 2, 2, 2, 2, 2, 2, 2, 2, 2, 2, 2, 2, 2, 2, 2, 2, 2, 2, 2, 2, 2, 2, 2, 2, 2, 2, 2, 2, 2, 2, 2, 2, 2, 2, 2, 2, 2, 2, 2, 2, 2, 2, 2, 2, 2, 2, 2, 2, 2, 2, 2, 2, 2, 2, 2, 2, 2, 2, 2, 2, 2, 2, 2, 2, 2, 2, 2, 2, 2, 2, 2, 2, 2, 2, 2, 2, 2, 2, 2, 2, 2, 2, 2, 2, 2, 2, 2, 2, 2, 2, 2, 2, 2, 2, 2, 2, 2, 2, 2, 2, 2, 2, 2, 2, 2, 2, 2, 2, 2, 2, 2, 2, 2, 2, 2, 2, 2, 2, 2, 2, 2, 1, 774, 12018, 528, 264, 6073, 1704, 684, 456, 9067, 28747, 23859, 272, 23966, 11317, 28725, 396, 330, 2554, 12089, 1799, 5926, 401, 7173, 560, 8621, 354, 5597, 28705, 28770, 28782, 1267, 304, 272, 18291, 304, 7162, 302, 401, 7173, 20114, 28725, 396, 5362, 304, 7731, 5403, 2496, 354, 2528, 14417, 28725, 17950, 18015, 28725, 21726, 1651, 1362, 2806, 304, 3327, 4154, 4799, 28723, 11317, 403, 5381, 297, 272, 500, 28723, 28735, 28723, 304, 2774, 516, 4835, 1312, 19735, 10539, 297, 9143, 28725, 970, 400, 2844, 5200, 390, 264, 11028, 10840, 361, 5377, 26558, 304, 3874, 516, 5968, 28742, 28713, 6153, 297, 6377, 9352, 28723, 650, 4142, 298, 5465, 28725, 4843, 297, 272, 28705, 28740, 28774, 28783, 28734, 28713, 390, 264, 330, 2554, 12089, 1799, 401, 7173, 16081, 28723, 1092, 369, 2723, 28809, 28707, 2066, 354, 11317, 28745, 400, 835, 4775, 272, 1820, 28725, 25659, 9970, 28747, 1094, 1529, 2482, 28809, 28713, 14555, 298, 18847, 2484, 8584, 297, 272, 5440, 401, 7173, 21268, 304, 3874, 272, 28705, 28750, 28734, 28734, 28787, 315, 1336, 28741, 401, 7173, 560, 8621, 302, 272, 7601, 8199, 28723, 2354, 23099, 304, 14900, 506, 4163, 713, 298, 4085, 297, 5597, 28705, 28782, 28734, 5780, 28725, 3227, 9696, 10437, 297, 754, 28705, 28740, 28784, 28734, 5611, 23311, 304, 8248, 380, 395, 9696, 9909, 356, 7028, 15245, 28723, 2387, 302, 516, 19225, 7028, 403, 11787, 330, 2554, 297, 10423, 871, 907, 5611, 4174, 297, 272, 28705, 28740, 28774, 28774, 28734, 28713, 28723, 28738, 19761, 28725, 11317, 349, 264, 4292, 302, 272, 9217, 302, 6055, 734, 302, 330, 2554, 28723, 816, 7310, 298, 713, 684, 516, 28705, 28770, 28782, 28733, 4395, 8123, 304, 516, 10195, 754, 272, 1267, 390, 264, 17950, 5024, 477, 5926, 401, 7173, 560, 8621, 298, 4779, 7059, 28723, 28705, 2]\n"
        }
      ]
    },
    {
      "metadata": {
        "id": "gVjewlPqfIrE"
      },
      "cell_type": "markdown",
      "source": [
        " visualization after applying padding and truncation"
      ]
    },
    {
      "metadata": {
        "colab": {
          "base_uri": "https://localhost:8080/",
          "height": 582
        },
        "id": "18L-EX32P_38",
        "outputId": "459ea336-190d-4831-d63c-9ce9a76e2829",
        "trusted": false
      },
      "cell_type": "code",
      "source": [
        "plot_data_lengths(tokenized_train_dataset, tokenized_val_dataset)"
      ],
      "execution_count": null,
      "outputs": [
        {
          "output_type": "stream",
          "name": "stdout",
          "text": "1890\n"
        },
        {
          "output_type": "display_data",
          "data": {
            "text/plain": "<Figure size 1000x600 with 1 Axes>",
            "image/png": "[encoded data removed]"
          },
          "metadata": {}
        }
      ]
    },
    {
      "metadata": {
        "id": "PH9XDMTEh3wz"
      },
      "cell_type": "markdown",
      "source": [
        "After applying padding and truncation, all samples in your dataset should have a uniform length, specifically equal to max_length. This ensures consistency across the dataset, which is crucial for efficient processing and training in machine learning models, especially in language-related tasks. Uniform length is achieved by truncating longer samples and padding shorter ones to match the specified max_length."
      ]
    },
    {
      "metadata": {
        "id": "SIFyZ1UFlQIu"
      },
      "cell_type": "markdown",
      "source": [
        "## **How does the base model do?**"
      ]
    },
    {
      "metadata": {
        "id": "Ywzr0qBQiTOq"
      },
      "cell_type": "markdown",
      "source": [
        "Not particularly required but also necessary to test drive the model to check it initial performance."
      ]
    },
    {
      "metadata": {
        "id": "ZITLcmSZQGk7",
        "trusted": false
      },
      "cell_type": "code",
      "source": [
        "eval_prompt = \" Write me a blog post about this topic: Fitness tips \""
      ],
      "execution_count": null,
      "outputs": []
    },
    {
      "metadata": {
        "colab": {
          "base_uri": "https://localhost:8080/"
        },
        "id": "CQ8TvcmEQbkF",
        "outputId": "0c1c722b-b7d9-448b-f3c8-0168b42d1e26",
        "trusted": false
      },
      "cell_type": "code",
      "source": [
        "# Init an eval tokenizer that doesn't add padding or eos token\n",
        "eval_tokenizer = AutoTokenizer.from_pretrained(\n",
        "    base_model_id,\n",
        "    add_bos_token=True,\n",
        ")\n",
        "\n",
        "model_input = eval_tokenizer(eval_prompt, return_tensors=\"pt\").to(\"cuda\")\n",
        "\n",
        "model.eval()\n",
        "with torch.no_grad():\n",
        "    print(eval_tokenizer.decode(model.generate(**model_input, max_new_tokens=256, repetition_penalty=1.15)[0], skip_special_tokens=True))"
      ],
      "execution_count": null,
      "outputs": [
        {
          "output_type": "stream",
          "name": "stderr",
          "text": "Setting `pad_token_id` to `eos_token_id`:2 for open-end generation.\n"
        },
        {
          "output_type": "stream",
          "name": "stdout",
          "text": " Write me a blog post about this topic: Fitness tips 101\n\nI’m not sure if you know, but I am a fitness instructor. I teach classes at the gym and I also have my own personal training business. I love helping people get fit and healthy! In this article, I will give you some of my best fitness tips for beginners. These are things that I tell all of my clients when they first start working with me. If you follow these simple steps, you will be on your way to reaching your fitness goals in no time!\n\n## What is fitness?\n\nFitness is the ability to do physical activity without being exhausted or injured. It includes endurance, strength, flexibility and balance. The more fit you are, the easier it will be for you to do everyday activities like walking up stairs or carrying groceries into your house. Being physically active can help prevent many diseases such as heart disease, diabetes and cancer.\n\n## Why should we care about our health?\n\nWe should care about our health because it affects every aspect of our lives. When we are healthy, we feel better emotionally and mentally which makes us happier overall. We also tend to live longer when we take good care of ourselves by eating right and exercising regularly.\n\n##\n"
        }
      ]
    },
    {
      "metadata": {
        "id": "jKReHuBxlfZF"
      },
      "cell_type": "markdown",
      "source": [
        "### **Set Up LoRA**"
      ]
    },
    {
      "metadata": {
        "id": "LSjTJhbfilzZ"
      },
      "cell_type": "markdown",
      "source": [
        "\n",
        "To begin fine-tuning your model, initiate with preprocessing using the 'prepare_model_for_kbit_training method from PEFT' (Prompt Engineering for Fine-Tuning). This method is specifically designed to condition the model for training by applying necessary modifications and optimizations in line with PEFT principles. It ensures that the model is aptly configured and ready for the efficient fine-tuning process."
      ]
    },
    {
      "metadata": {
        "id": "GJdttZakQtpM",
        "trusted": false
      },
      "cell_type": "code",
      "source": [
        "model.gradient_checkpointing_enable()\n",
        "model = prepare_model_for_kbit_training(model)"
      ],
      "execution_count": null,
      "outputs": []
    },
    {
      "metadata": {
        "id": "p_t-Qa-cQyWS",
        "trusted": false
      },
      "cell_type": "code",
      "source": [
        "def print_trainable_parameters(model):\n",
        "    \"\"\"\n",
        "    Prints the number of trainable parameters in the model.\n",
        "    \"\"\"\n",
        "    trainable_params = 0\n",
        "    all_param = 0\n",
        "    for _, param in model.named_parameters():\n",
        "        all_param += param.numel()\n",
        "        if param.requires_grad:\n",
        "            trainable_params += param.numel()\n",
        "    print(\n",
        "        f\"trainable params: {trainable_params} || all params: {all_param} || trainable%: {100 * trainable_params / all_param}\"\n",
        "    )"
      ],
      "execution_count": null,
      "outputs": []
    },
    {
      "metadata": {
        "id": "QO5W-2uojElJ"
      },
      "cell_type": "markdown",
      "source": [
        "To prepare for applying QLoRA (Quantized Low-Rank Adaptation) to your model, start by printing the model's structure to examine its layers. Focus on identifying all the linear layers where QLoRA will be implemented. These layers typically include q_proj, k_proj, v_proj, o_proj, gate_proj, up_proj, down_proj, and lm_head. Inspecting the model in this way allows you to understand its architecture and pinpoint where to apply QLoRA modifications effectively."
      ]
    },
    {
      "metadata": {
        "colab": {
          "base_uri": "https://localhost:8080/"
        },
        "id": "ER3h7c7EQ22F",
        "outputId": "7b5df3fa-1be1-4d05-f02f-cb91b41aa421",
        "trusted": false
      },
      "cell_type": "code",
      "source": [
        "print(model)"
      ],
      "execution_count": null,
      "outputs": [
        {
          "output_type": "stream",
          "name": "stdout",
          "text": "PeftModelForCausalLM(\n  (base_model): LoraModel(\n    (model): MistralForCausalLM(\n      (model): MistralModel(\n        (embed_tokens): Embedding(32000, 4096)\n        (layers): ModuleList(\n          (0-31): 32 x MistralDecoderLayer(\n            (self_attn): MistralAttention(\n              (q_proj): lora.Linear4bit(\n                (base_layer): Linear4bit(in_features=4096, out_features=4096, bias=False)\n                (lora_dropout): ModuleDict(\n                  (default): Dropout(p=0.05, inplace=False)\n                )\n                (lora_A): ModuleDict(\n                  (default): Linear(in_features=4096, out_features=32, bias=False)\n                )\n                (lora_B): ModuleDict(\n                  (default): Linear(in_features=32, out_features=4096, bias=False)\n                )\n                (lora_embedding_A): ParameterDict()\n                (lora_embedding_B): ParameterDict()\n              )\n              (k_proj): lora.Linear4bit(\n                (base_layer): Linear4bit(in_features=4096, out_features=1024, bias=False)\n                (lora_dropout): ModuleDict(\n                  (default): Dropout(p=0.05, inplace=False)\n                )\n                (lora_A): ModuleDict(\n                  (default): Linear(in_features=4096, out_features=32, bias=False)\n                )\n                (lora_B): ModuleDict(\n                  (default): Linear(in_features=32, out_features=1024, bias=False)\n                )\n                (lora_embedding_A): ParameterDict()\n                (lora_embedding_B): ParameterDict()\n              )\n              (v_proj): lora.Linear4bit(\n                (base_layer): Linear4bit(in_features=4096, out_features=1024, bias=False)\n                (lora_dropout): ModuleDict(\n                  (default): Dropout(p=0.05, inplace=False)\n                )\n                (lora_A): ModuleDict(\n                  (default): Linear(in_features=4096, out_features=32, bias=False)\n                )\n                (lora_B): ModuleDict(\n                  (default): Linear(in_features=32, out_features=1024, bias=False)\n                )\n                (lora_embedding_A): ParameterDict()\n                (lora_embedding_B): ParameterDict()\n              )\n              (o_proj): lora.Linear4bit(\n                (base_layer): Linear4bit(in_features=4096, out_features=4096, bias=False)\n                (lora_dropout): ModuleDict(\n                  (default): Dropout(p=0.05, inplace=False)\n                )\n                (lora_A): ModuleDict(\n                  (default): Linear(in_features=4096, out_features=32, bias=False)\n                )\n                (lora_B): ModuleDict(\n                  (default): Linear(in_features=32, out_features=4096, bias=False)\n                )\n                (lora_embedding_A): ParameterDict()\n                (lora_embedding_B): ParameterDict()\n              )\n              (rotary_emb): MistralRotaryEmbedding()\n            )\n            (mlp): MistralMLP(\n              (gate_proj): lora.Linear4bit(\n                (base_layer): Linear4bit(in_features=4096, out_features=14336, bias=False)\n                (lora_dropout): ModuleDict(\n                  (default): Dropout(p=0.05, inplace=False)\n                )\n                (lora_A): ModuleDict(\n                  (default): Linear(in_features=4096, out_features=32, bias=False)\n                )\n                (lora_B): ModuleDict(\n                  (default): Linear(in_features=32, out_features=14336, bias=False)\n                )\n                (lora_embedding_A): ParameterDict()\n                (lora_embedding_B): ParameterDict()\n              )\n              (up_proj): lora.Linear4bit(\n                (base_layer): Linear4bit(in_features=4096, out_features=14336, bias=False)\n                (lora_dropout): ModuleDict(\n                  (default): Dropout(p=0.05, inplace=False)\n                )\n                (lora_A): ModuleDict(\n                  (default): Linear(in_features=4096, out_features=32, bias=False)\n                )\n                (lora_B): ModuleDict(\n                  (default): Linear(in_features=32, out_features=14336, bias=False)\n                )\n                (lora_embedding_A): ParameterDict()\n                (lora_embedding_B): ParameterDict()\n              )\n              (down_proj): lora.Linear4bit(\n                (base_layer): Linear4bit(in_features=14336, out_features=4096, bias=False)\n                (lora_dropout): ModuleDict(\n                  (default): Dropout(p=0.05, inplace=False)\n                )\n                (lora_A): ModuleDict(\n                  (default): Linear(in_features=14336, out_features=32, bias=False)\n                )\n                (lora_B): ModuleDict(\n                  (default): Linear(in_features=32, out_features=4096, bias=False)\n                )\n                (lora_embedding_A): ParameterDict()\n                (lora_embedding_B): ParameterDict()\n              )\n              (act_fn): SiLU()\n            )\n            (input_layernorm): MistralRMSNorm()\n            (post_attention_layernorm): MistralRMSNorm()\n          )\n        )\n        (norm): MistralRMSNorm()\n      )\n      (lm_head): lora.Linear(\n        (base_layer): Linear(in_features=4096, out_features=32000, bias=False)\n        (lora_dropout): ModuleDict(\n          (default): Dropout(p=0.05, inplace=False)\n        )\n        (lora_A): ModuleDict(\n          (default): Linear(in_features=4096, out_features=32, bias=False)\n        )\n        (lora_B): ModuleDict(\n          (default): Linear(in_features=32, out_features=32000, bias=False)\n        )\n        (lora_embedding_A): ParameterDict()\n        (lora_embedding_B): ParameterDict()\n      )\n    )\n  )\n)\n"
        }
      ]
    },
    {
      "metadata": {
        "id": "WhogRVbpk2CJ"
      },
      "cell_type": "markdown",
      "source": [
        "In defining the configuration for LoRA (Low-Rank Adaptation), we focus on two key parameters: r and alpha.\n",
        "\n",
        "r (Rank of Low-Rank Matrix): This parameter controls the number of parameters trained in the adapters. Essentially, it's the rank of the low-rank matrix used in LoRA. Choosing a higher rank increases the model's expressivity, as it allows for more complex adaptations. However, it also increases computational complexity. In the QLoRA paper, a rank of r=64 was used, but for our purposes, we'll set r=32. This choice strikes a balance between expressivity and computational efficiency, making the model more focused on the new, fine-tuned data while reducing computational load.\n",
        "\n",
        "lora_alpha (Scaling Factor for Learned Weights): The alpha parameter scales the learned weight matrix, with the scaling factor being alpha/r. A higher value of alpha gives more importance to the LoRA activations, thereby accentuating the influence of the fine-tuning. In the QLoRA paper, lora_alpha was set to 16, but we will use lora_alpha=64. This adjustment puts greater emphasis on the newly fine-tuned data, aligning with our goal of tailoring the model more distinctly to the new dataset.\n",
        "\n",
        "By setting r=32 and lora_alpha=64, we aim to optimize the model for significant adaptability to the new data while maintaining manageable computational requirements."
      ]
    },
    {
      "metadata": {
        "colab": {
          "base_uri": "https://localhost:8080/"
        },
        "id": "oCMpWP30Q6R0",
        "outputId": "2befa81f-0065-4de1-8da1-eeb0edc36e6a",
        "trusted": false
      },
      "cell_type": "code",
      "source": [
        "config = LoraConfig(\n",
        "    r=32,\n",
        "    lora_alpha=64,\n",
        "    target_modules=[\n",
        "        \"q_proj\",\n",
        "        \"k_proj\",\n",
        "        \"v_proj\",\n",
        "        \"o_proj\",\n",
        "        \"gate_proj\",\n",
        "        \"up_proj\",\n",
        "        \"down_proj\",\n",
        "        \"lm_head\",\n",
        "    ],\n",
        "    bias=\"none\",\n",
        "    lora_dropout=0.05,  # Conventional\n",
        "    task_type=\"CAUSAL_LM\",\n",
        ")\n",
        "\n",
        "model = get_peft_model(model, config)\n",
        "print_trainable_parameters(model)"
      ],
      "execution_count": null,
      "outputs": [
        {
          "output_type": "stream",
          "name": "stdout",
          "text": "trainable params: 85041152 || all params: 3837112320 || trainable%: 2.2162799758751914\n"
        }
      ]
    },
    {
      "metadata": {
        "id": "dSzBE2SBmwWt"
      },
      "cell_type": "markdown",
      "source": [
        "Examine the modified structure of the model after integrating the LoRA (Low-Rank Adaptation) adapters. These additions will have altered the model's architecture, introducing changes that are visible when inspecting the model layers. Look for the implemented LoRA adapters to understand how they integrate with the existing structure, providing insight into the model's enhanced capabilities post-adaptation."
      ]
    },
    {
      "metadata": {
        "colab": {
          "base_uri": "https://localhost:8080/"
        },
        "id": "WFucyoYiQ_Ah",
        "outputId": "7ccac2be-f535-4aa0-d048-916709ac387e",
        "trusted": false
      },
      "cell_type": "code",
      "source": [
        "print(model)"
      ],
      "execution_count": null,
      "outputs": [
        {
          "output_type": "stream",
          "name": "stdout",
          "text": "PeftModelForCausalLM(\n  (base_model): LoraModel(\n    (model): MistralForCausalLM(\n      (model): MistralModel(\n        (embed_tokens): Embedding(32000, 4096)\n        (layers): ModuleList(\n          (0-31): 32 x MistralDecoderLayer(\n            (self_attn): MistralAttention(\n              (q_proj): lora.Linear4bit(\n                (base_layer): Linear4bit(in_features=4096, out_features=4096, bias=False)\n                (lora_dropout): ModuleDict(\n                  (default): Dropout(p=0.05, inplace=False)\n                )\n                (lora_A): ModuleDict(\n                  (default): Linear(in_features=4096, out_features=32, bias=False)\n                )\n                (lora_B): ModuleDict(\n                  (default): Linear(in_features=32, out_features=4096, bias=False)\n                )\n                (lora_embedding_A): ParameterDict()\n                (lora_embedding_B): ParameterDict()\n              )\n              (k_proj): lora.Linear4bit(\n                (base_layer): Linear4bit(in_features=4096, out_features=1024, bias=False)\n                (lora_dropout): ModuleDict(\n                  (default): Dropout(p=0.05, inplace=False)\n                )\n                (lora_A): ModuleDict(\n                  (default): Linear(in_features=4096, out_features=32, bias=False)\n                )\n                (lora_B): ModuleDict(\n                  (default): Linear(in_features=32, out_features=1024, bias=False)\n                )\n                (lora_embedding_A): ParameterDict()\n                (lora_embedding_B): ParameterDict()\n              )\n              (v_proj): lora.Linear4bit(\n                (base_layer): Linear4bit(in_features=4096, out_features=1024, bias=False)\n                (lora_dropout): ModuleDict(\n                  (default): Dropout(p=0.05, inplace=False)\n                )\n                (lora_A): ModuleDict(\n                  (default): Linear(in_features=4096, out_features=32, bias=False)\n                )\n                (lora_B): ModuleDict(\n                  (default): Linear(in_features=32, out_features=1024, bias=False)\n                )\n                (lora_embedding_A): ParameterDict()\n                (lora_embedding_B): ParameterDict()\n              )\n              (o_proj): lora.Linear4bit(\n                (base_layer): Linear4bit(in_features=4096, out_features=4096, bias=False)\n                (lora_dropout): ModuleDict(\n                  (default): Dropout(p=0.05, inplace=False)\n                )\n                (lora_A): ModuleDict(\n                  (default): Linear(in_features=4096, out_features=32, bias=False)\n                )\n                (lora_B): ModuleDict(\n                  (default): Linear(in_features=32, out_features=4096, bias=False)\n                )\n                (lora_embedding_A): ParameterDict()\n                (lora_embedding_B): ParameterDict()\n              )\n              (rotary_emb): MistralRotaryEmbedding()\n            )\n            (mlp): MistralMLP(\n              (gate_proj): lora.Linear4bit(\n                (base_layer): Linear4bit(in_features=4096, out_features=14336, bias=False)\n                (lora_dropout): ModuleDict(\n                  (default): Dropout(p=0.05, inplace=False)\n                )\n                (lora_A): ModuleDict(\n                  (default): Linear(in_features=4096, out_features=32, bias=False)\n                )\n                (lora_B): ModuleDict(\n                  (default): Linear(in_features=32, out_features=14336, bias=False)\n                )\n                (lora_embedding_A): ParameterDict()\n                (lora_embedding_B): ParameterDict()\n              )\n              (up_proj): lora.Linear4bit(\n                (base_layer): Linear4bit(in_features=4096, out_features=14336, bias=False)\n                (lora_dropout): ModuleDict(\n                  (default): Dropout(p=0.05, inplace=False)\n                )\n                (lora_A): ModuleDict(\n                  (default): Linear(in_features=4096, out_features=32, bias=False)\n                )\n                (lora_B): ModuleDict(\n                  (default): Linear(in_features=32, out_features=14336, bias=False)\n                )\n                (lora_embedding_A): ParameterDict()\n                (lora_embedding_B): ParameterDict()\n              )\n              (down_proj): lora.Linear4bit(\n                (base_layer): Linear4bit(in_features=14336, out_features=4096, bias=False)\n                (lora_dropout): ModuleDict(\n                  (default): Dropout(p=0.05, inplace=False)\n                )\n                (lora_A): ModuleDict(\n                  (default): Linear(in_features=14336, out_features=32, bias=False)\n                )\n                (lora_B): ModuleDict(\n                  (default): Linear(in_features=32, out_features=4096, bias=False)\n                )\n                (lora_embedding_A): ParameterDict()\n                (lora_embedding_B): ParameterDict()\n              )\n              (act_fn): SiLU()\n            )\n            (input_layernorm): MistralRMSNorm()\n            (post_attention_layernorm): MistralRMSNorm()\n          )\n        )\n        (norm): MistralRMSNorm()\n      )\n      (lm_head): lora.Linear(\n        (base_layer): Linear(in_features=4096, out_features=32000, bias=False)\n        (lora_dropout): ModuleDict(\n          (default): Dropout(p=0.05, inplace=False)\n        )\n        (lora_A): ModuleDict(\n          (default): Linear(in_features=4096, out_features=32, bias=False)\n        )\n        (lora_B): ModuleDict(\n          (default): Linear(in_features=32, out_features=32000, bias=False)\n        )\n        (lora_embedding_A): ParameterDict()\n        (lora_embedding_B): ParameterDict()\n      )\n    )\n  )\n)\n"
        }
      ]
    },
    {
      "metadata": {
        "id": "2fVPqnFBlq3I"
      },
      "cell_type": "markdown",
      "source": [
        "### **Run Training!**"
      ]
    },
    {
      "metadata": {
        "id": "o2gCHeunpRLG"
      },
      "cell_type": "markdown",
      "source": [
        "In this training scenario, there is a relatively small dataset of about 1890 samples for both training and validation. Opting for 500 training steps, we were open to the possibility of overfitting, which in this context was acceptable. Overfitting occurs when a model, while improving on training data (decreasing training loss), performs poorly on new, unseen data (increasing validation loss). This typically indicates that the model is memorizing the training data rather than learning to generalize.\n",
        "\n",
        "In this case, overfitting was not a major concern as the goal was to fine-tune a model to generate outputs similar to blog posts. it was found that the end product worked well for this purpose, taking about 30 minutes on an A100 GPU.\n",
        "\n",
        "For training strategies:\n",
        "\n",
        "**Experiment with Max Steps:** Start with a high max_steps value. Monitor the model's performance and identify the point where overfitting starts, indicated by increasing validation loss and decreasing training loss. This point helps determine the optimal number of training steps.\n",
        "\n",
        "**Identify the Sweet Spot:** For example, if you start with 1000 steps and notice overfitting at around 500 steps, then 500 steps is likely your sweet spot for training. You would then use the model saved at this point (e.g., checkpoint-500 in your output directory) as the final model.\n",
        "\n",
        "**Explore Different Checkpoints:** You can experiment with models saved at different checkpoints to see varying degrees of overfitting and choose the one that best meets your needs. However, for the purpose of this study we allowed for complete training even though, our sweet spot was around checkpoint-150 where we could have interrupted the model\n",
        "\n",
        "**Interrupt if Necessary:** If you realize that sufficient training has been achieved before reaching your initially set max_steps, you can interrupt the training process to avoid unnecessary computation.\n",
        "\n",
        "This approach allows for flexibility and customization in training, especially when dealing with specific tasks like generating Fitness Blog Post."
      ]
    },
    {
      "metadata": {
        "id": "oyxhq00hRDBB",
        "trusted": false
      },
      "cell_type": "code",
      "source": [
        "if torch.cuda.device_count() > 1: # If more than 1 GPU\n",
        "    model.is_parallelizable = True\n",
        "    model.model_parallel = True"
      ],
      "execution_count": null,
      "outputs": []
    },
    {
      "metadata": {
        "id": "z4hCj5GpRHzK",
        "trusted": false
      },
      "cell_type": "code",
      "source": [
        "model = accelerator.prepare_model(model)"
      ],
      "execution_count": null,
      "outputs": []
    },
    {
      "metadata": {
        "colab": {
          "base_uri": "https://localhost:8080/",
          "height": 1000
        },
        "id": "LAU93k2HRKpP",
        "outputId": "f6fdbc89-171e-416f-b46f-9a72e5ab177a",
        "trusted": false
      },
      "cell_type": "code",
      "source": [
        "project = \"blog_post-finetune\"\n",
        "base_model_name = \"mistral\"\n",
        "run_name = base_model_name + \"-\" + project\n",
        "output_dir = \"./\" + run_name\n",
        "\n",
        "trainer = transformers.Trainer(\n",
        "    model=model,\n",
        "    train_dataset=tokenized_train_dataset,\n",
        "    eval_dataset=tokenized_val_dataset,\n",
        "    args=transformers.TrainingArguments(\n",
        "        output_dir=output_dir,\n",
        "        warmup_steps=1,\n",
        "        per_device_train_batch_size=32,\n",
        "        gradient_accumulation_steps=1,\n",
        "        gradient_checkpointing=True,\n",
        "        max_steps=500,\n",
        "        learning_rate= 2e-5, # Want a small lr for finetuning\n",
        "        bf16=True,\n",
        "        optim=\"paged_adamw_8bit\",\n",
        "        logging_steps=25,              # When to start reporting loss\n",
        "        logging_dir=\"./logs\",        # Directory for storing logs\n",
        "        save_strategy=\"steps\",       # Save the model checkpoint every logging step\n",
        "        save_steps=25,                # Save checkpoints every 25 steps\n",
        "        evaluation_strategy=\"steps\", # Evaluate the model every logging step\n",
        "        eval_steps=25,               # Evaluate and save checkpoints every 25 steps\n",
        "        do_eval=True,                # Perform evaluation at the end of training\n",
        "        report_to=\"wandb\",           # use weights & baises\n",
        "        run_name=f\"{run_name}-{datetime.now().strftime('%Y-%m-%d-%H-%M')}\" ,\n",
        "        load_best_model_at_end=True,  # Load the best model at the end of training\n",
        "        metric_for_best_model=\"loss\",  # the metric for the best model\n",
        "        greater_is_better=False,  # Set to True if the metric should be maximized\n",
        "    ),\n",
        "    data_collator=transformers.DataCollatorForLanguageModeling(tokenizer, mlm=False),\n",
        ")\n",
        "\n",
        "model.config.use_cache = False  # silence the warnings.\n",
        "trainer.train()"
      ],
      "execution_count": null,
      "outputs": [
        {
          "output_type": "display_data",
          "data": {
            "text/plain": "<IPython.core.display.HTML object>",
            "text/html": "Changes to your `wandb` environment variables will be ignored because your `wandb` session has already started. For more information on how to modify your settings with `wandb.init()` arguments, please refer to <a href='https://wandb.me/wandb-init' target=\"_blank\">the W&B docs</a>."
          },
          "metadata": {}
        },
        {
          "output_type": "display_data",
          "data": {
            "text/plain": "<IPython.core.display.HTML object>",
            "text/html": "Tracking run with wandb version 0.16.2"
          },
          "metadata": {}
        },
        {
          "output_type": "display_data",
          "data": {
            "text/plain": "<IPython.core.display.HTML object>",
            "text/html": "Run data is saved locally in <code>/content/wandb/run-20240203_150946-e2qu8q1u</code>"
          },
          "metadata": {}
        },
        {
          "output_type": "display_data",
          "data": {
            "text/plain": "<IPython.core.display.HTML object>",
            "text/html": "Syncing run <strong><a href='https://wandb.ai/yeboah/journal-finetune/runs/e2qu8q1u' target=\"_blank\">mistral-blog_post-finetune-2024-02-03-15-09</a></strong> to <a href='https://wandb.ai/yeboah/journal-finetune' target=\"_blank\">Weights & Biases</a> (<a href='https://wandb.me/run' target=\"_blank\">docs</a>)<br/>"
          },
          "metadata": {}
        },
        {
          "output_type": "display_data",
          "data": {
            "text/plain": "<IPython.core.display.HTML object>",
            "text/html": " View project at <a href='https://wandb.ai/yeboah/journal-finetune' target=\"_blank\">https://wandb.ai/yeboah/journal-finetune</a>"
          },
          "metadata": {}
        },
        {
          "output_type": "display_data",
          "data": {
            "text/plain": "<IPython.core.display.HTML object>",
            "text/html": " View run at <a href='https://wandb.ai/yeboah/journal-finetune/runs/e2qu8q1u' target=\"_blank\">https://wandb.ai/yeboah/journal-finetune/runs/e2qu8q1u</a>"
          },
          "metadata": {}
        },
        {
          "output_type": "stream",
          "name": "stderr",
          "text": "/usr/local/lib/python3.10/dist-packages/torch/utils/checkpoint.py:429: UserWarning: torch.utils.checkpoint: please pass in use_reentrant=True or use_reentrant=False explicitly. The default value of use_reentrant will be updated to be False in the future. To maintain current behavior, pass use_reentrant=True. It is recommended that you use use_reentrant=False. Refer to docs for more details on the differences between the two variants.\n  warnings.warn(\n"
        },
        {
          "output_type": "display_data",
          "data": {
            "text/plain": "<IPython.core.display.HTML object>",
            "text/html": "\n    <div>\n      \n      <progress value='500' max='500' style='width:300px; height:20px; vertical-align: middle;'></progress>\n      [500/500 1:10:44, Epoch 9/10]\n    </div>\n    <table border=\"1\" class=\"dataframe\">\n  <thead>\n <tr style=\"text-align: left;\">\n      <th>Step</th>\n      <th>Training Loss</th>\n      <th>Validation Loss</th>\n    </tr>\n  </thead>\n  <tbody>\n    <tr>\n      <td>25</td>\n      <td>1.947300</td>\n      <td>1.835919</td>\n    </tr>\n    <tr>\n      <td>50</td>\n      <td>1.835500</td>\n      <td>1.783581</td>\n    </tr>\n    <tr>\n      <td>75</td>\n      <td>1.735100</td>\n      <td>1.766186</td>\n    </tr>\n    <tr>\n      <td>100</td>\n      <td>1.717500</td>\n      <td>1.757314</td>\n    </tr>\n    <tr>\n      <td>125</td>\n      <td>1.679900</td>\n      <td>1.759988</td>\n    </tr>\n    <tr>\n      <td>150</td>\n      <td>1.593800</td>\n      <td>1.762661</td>\n    </tr>\n    <tr>\n      <td>175</td>\n      <td>1.538200</td>\n      <td>1.785924</td>\n    </tr>\n    <tr>\n      <td>200</td>\n      <td>1.487200</td>\n      <td>1.795691</td>\n    </tr>\n    <tr>\n      <td>225</td>\n      <td>1.448900</td>\n      <td>1.839452</td>\n    </tr>\n    <tr>\n      <td>250</td>\n      <td>1.376200</td>\n      <td>1.843180</td>\n    </tr>\n    <tr>\n      <td>275</td>\n      <td>1.327000</td>\n      <td>1.911269</td>\n    </tr>\n    <tr>\n      <td>300</td>\n      <td>1.272600</td>\n      <td>1.914001</td>\n    </tr>\n    <tr>\n      <td>325</td>\n      <td>1.239400</td>\n      <td>1.920638</td>\n    </tr>\n    <tr>\n      <td>350</td>\n      <td>1.151200</td>\n      <td>1.967255</td>\n    </tr>\n    <tr>\n      <td>375</td>\n      <td>1.161600</td>\n      <td>1.963684</td>\n    </tr>\n    <tr>\n      <td>400</td>\n      <td>1.073000</td>\n      <td>2.019707</td>\n    </tr>\n    <tr>\n      <td>425</td>\n      <td>1.070700</td>\n      <td>2.028916</td>\n    </tr>\n    <tr>\n      <td>450</td>\n      <td>1.043900</td>\n      <td>2.076888</td>\n    </tr>\n    <tr>\n      <td>475</td>\n      <td>1.004900</td>\n      <td>2.078729</td>\n    </tr>\n    <tr>\n      <td>500</td>\n      <td>1.009300</td>\n      <td>2.090130</td>\n    </tr>\n  </tbody>\n</table><p>"
          },
          "metadata": {}
        },
        {
          "output_type": "stream",
          "name": "stderr",
          "text": "Checkpoint destination directory ./mistral-blog_post-finetune/checkpoint-25 already exists and is non-empty. Saving will proceed but saved results may be invalid.\n/usr/local/lib/python3.10/dist-packages/peft/utils/save_and_load.py:134: UserWarning: Setting `save_embedding_layers` to `True` as embedding layers found in `target_modules`.\n  warnings.warn(\"Setting `save_embedding_layers` to `True` as embedding layers found in `target_modules`.\")\n/usr/local/lib/python3.10/dist-packages/torch/utils/checkpoint.py:429: UserWarning: torch.utils.checkpoint: please pass in use_reentrant=True or use_reentrant=False explicitly. The default value of use_reentrant will be updated to be False in the future. To maintain current behavior, pass use_reentrant=True. It is recommended that you use use_reentrant=False. Refer to docs for more details on the differences between the two variants.\n  warnings.warn(\nCheckpoint destination directory ./mistral-blog_post-finetune/checkpoint-50 already exists and is non-empty. Saving will proceed but saved results may be invalid.\n/usr/local/lib/python3.10/dist-packages/peft/utils/save_and_load.py:134: UserWarning: Setting `save_embedding_layers` to `True` as embedding layers found in `target_modules`.\n  warnings.warn(\"Setting `save_embedding_layers` to `True` as embedding layers found in `target_modules`.\")\n/usr/local/lib/python3.10/dist-packages/torch/utils/checkpoint.py:429: UserWarning: torch.utils.checkpoint: please pass in use_reentrant=True or use_reentrant=False explicitly. The default value of use_reentrant will be updated to be False in the future. To maintain current behavior, pass use_reentrant=True. It is recommended that you use use_reentrant=False. Refer to docs for more details on the differences between the two variants.\n  warnings.warn(\nCheckpoint destination directory ./mistral-blog_post-finetune/checkpoint-75 already exists and is non-empty. Saving will proceed but saved results may be invalid.\n/usr/local/lib/python3.10/dist-packages/peft/utils/save_and_load.py:134: UserWarning: Setting `save_embedding_layers` to `True` as embedding layers found in `target_modules`.\n  warnings.warn(\"Setting `save_embedding_layers` to `True` as embedding layers found in `target_modules`.\")\n/usr/local/lib/python3.10/dist-packages/torch/utils/checkpoint.py:429: UserWarning: torch.utils.checkpoint: please pass in use_reentrant=True or use_reentrant=False explicitly. The default value of use_reentrant will be updated to be False in the future. To maintain current behavior, pass use_reentrant=True. It is recommended that you use use_reentrant=False. Refer to docs for more details on the differences between the two variants.\n  warnings.warn(\nCheckpoint destination directory ./mistral-blog_post-finetune/checkpoint-100 already exists and is non-empty. Saving will proceed but saved results may be invalid.\n/usr/local/lib/python3.10/dist-packages/peft/utils/save_and_load.py:134: UserWarning: Setting `save_embedding_layers` to `True` as embedding layers found in `target_modules`.\n  warnings.warn(\"Setting `save_embedding_layers` to `True` as embedding layers found in `target_modules`.\")\n/usr/local/lib/python3.10/dist-packages/torch/utils/checkpoint.py:429: UserWarning: torch.utils.checkpoint: please pass in use_reentrant=True or use_reentrant=False explicitly. The default value of use_reentrant will be updated to be False in the future. To maintain current behavior, pass use_reentrant=True. It is recommended that you use use_reentrant=False. Refer to docs for more details on the differences between the two variants.\n  warnings.warn(\nCheckpoint destination directory ./mistral-blog_post-finetune/checkpoint-125 already exists and is non-empty. Saving will proceed but saved results may be invalid.\n/usr/local/lib/python3.10/dist-packages/peft/utils/save_and_load.py:134: UserWarning: Setting `save_embedding_layers` to `True` as embedding layers found in `target_modules`.\n  warnings.warn(\"Setting `save_embedding_layers` to `True` as embedding layers found in `target_modules`.\")\n/usr/local/lib/python3.10/dist-packages/torch/utils/checkpoint.py:429: UserWarning: torch.utils.checkpoint: please pass in use_reentrant=True or use_reentrant=False explicitly. The default value of use_reentrant will be updated to be False in the future. To maintain current behavior, pass use_reentrant=True. It is recommended that you use use_reentrant=False. Refer to docs for more details on the differences between the two variants.\n  warnings.warn(\nCheckpoint destination directory ./mistral-blog_post-finetune/checkpoint-150 already exists and is non-empty. Saving will proceed but saved results may be invalid.\n/usr/local/lib/python3.10/dist-packages/peft/utils/save_and_load.py:134: UserWarning: Setting `save_embedding_layers` to `True` as embedding layers found in `target_modules`.\n  warnings.warn(\"Setting `save_embedding_layers` to `True` as embedding layers found in `target_modules`.\")\n/usr/local/lib/python3.10/dist-packages/torch/utils/checkpoint.py:429: UserWarning: torch.utils.checkpoint: please pass in use_reentrant=True or use_reentrant=False explicitly. The default value of use_reentrant will be updated to be False in the future. To maintain current behavior, pass use_reentrant=True. It is recommended that you use use_reentrant=False. Refer to docs for more details on the differences between the two variants.\n  warnings.warn(\n/usr/local/lib/python3.10/dist-packages/peft/utils/save_and_load.py:134: UserWarning: Setting `save_embedding_layers` to `True` as embedding layers found in `target_modules`.\n  warnings.warn(\"Setting `save_embedding_layers` to `True` as embedding layers found in `target_modules`.\")\n/usr/local/lib/python3.10/dist-packages/torch/utils/checkpoint.py:429: UserWarning: torch.utils.checkpoint: please pass in use_reentrant=True or use_reentrant=False explicitly. The default value of use_reentrant will be updated to be False in the future. To maintain current behavior, pass use_reentrant=True. It is recommended that you use use_reentrant=False. Refer to docs for more details on the differences between the two variants.\n  warnings.warn(\n/usr/local/lib/python3.10/dist-packages/peft/utils/save_and_load.py:134: UserWarning: Setting `save_embedding_layers` to `True` as embedding layers found in `target_modules`.\n  warnings.warn(\"Setting `save_embedding_layers` to `True` as embedding layers found in `target_modules`.\")\n/usr/local/lib/python3.10/dist-packages/torch/utils/checkpoint.py:429: UserWarning: torch.utils.checkpoint: please pass in use_reentrant=True or use_reentrant=False explicitly. The default value of use_reentrant will be updated to be False in the future. To maintain current behavior, pass use_reentrant=True. It is recommended that you use use_reentrant=False. Refer to docs for more details on the differences between the two variants.\n  warnings.warn(\n/usr/local/lib/python3.10/dist-packages/peft/utils/save_and_load.py:134: UserWarning: Setting `save_embedding_layers` to `True` as embedding layers found in `target_modules`.\n  warnings.warn(\"Setting `save_embedding_layers` to `True` as embedding layers found in `target_modules`.\")\n/usr/local/lib/python3.10/dist-packages/torch/utils/checkpoint.py:429: UserWarning: torch.utils.checkpoint: please pass in use_reentrant=True or use_reentrant=False explicitly. The default value of use_reentrant will be updated to be False in the future. To maintain current behavior, pass use_reentrant=True. It is recommended that you use use_reentrant=False. Refer to docs for more details on the differences between the two variants.\n  warnings.warn(\n/usr/local/lib/python3.10/dist-packages/peft/utils/save_and_load.py:134: UserWarning: Setting `save_embedding_layers` to `True` as embedding layers found in `target_modules`.\n  warnings.warn(\"Setting `save_embedding_layers` to `True` as embedding layers found in `target_modules`.\")\n/usr/local/lib/python3.10/dist-packages/torch/utils/checkpoint.py:429: UserWarning: torch.utils.checkpoint: please pass in use_reentrant=True or use_reentrant=False explicitly. The default value of use_reentrant will be updated to be False in the future. To maintain current behavior, pass use_reentrant=True. It is recommended that you use use_reentrant=False. Refer to docs for more details on the differences between the two variants.\n  warnings.warn(\n/usr/local/lib/python3.10/dist-packages/peft/utils/save_and_load.py:134: UserWarning: Setting `save_embedding_layers` to `True` as embedding layers found in `target_modules`.\n  warnings.warn(\"Setting `save_embedding_layers` to `True` as embedding layers found in `target_modules`.\")\n/usr/local/lib/python3.10/dist-packages/torch/utils/checkpoint.py:429: UserWarning: torch.utils.checkpoint: please pass in use_reentrant=True or use_reentrant=False explicitly. The default value of use_reentrant will be updated to be False in the future. To maintain current behavior, pass use_reentrant=True. It is recommended that you use use_reentrant=False. Refer to docs for more details on the differences between the two variants.\n  warnings.warn(\n/usr/local/lib/python3.10/dist-packages/peft/utils/save_and_load.py:134: UserWarning: Setting `save_embedding_layers` to `True` as embedding layers found in `target_modules`.\n  warnings.warn(\"Setting `save_embedding_layers` to `True` as embedding layers found in `target_modules`.\")\n/usr/local/lib/python3.10/dist-packages/torch/utils/checkpoint.py:429: UserWarning: torch.utils.checkpoint: please pass in use_reentrant=True or use_reentrant=False explicitly. The default value of use_reentrant will be updated to be False in the future. To maintain current behavior, pass use_reentrant=True. It is recommended that you use use_reentrant=False. Refer to docs for more details on the differences between the two variants.\n  warnings.warn(\n/usr/local/lib/python3.10/dist-packages/peft/utils/save_and_load.py:134: UserWarning: Setting `save_embedding_layers` to `True` as embedding layers found in `target_modules`.\n  warnings.warn(\"Setting `save_embedding_layers` to `True` as embedding layers found in `target_modules`.\")\n/usr/local/lib/python3.10/dist-packages/torch/utils/checkpoint.py:429: UserWarning: torch.utils.checkpoint: please pass in use_reentrant=True or use_reentrant=False explicitly. The default value of use_reentrant will be updated to be False in the future. To maintain current behavior, pass use_reentrant=True. It is recommended that you use use_reentrant=False. Refer to docs for more details on the differences between the two variants.\n  warnings.warn(\n/usr/local/lib/python3.10/dist-packages/peft/utils/save_and_load.py:134: UserWarning: Setting `save_embedding_layers` to `True` as embedding layers found in `target_modules`.\n  warnings.warn(\"Setting `save_embedding_layers` to `True` as embedding layers found in `target_modules`.\")\n/usr/local/lib/python3.10/dist-packages/torch/utils/checkpoint.py:429: UserWarning: torch.utils.checkpoint: please pass in use_reentrant=True or use_reentrant=False explicitly. The default value of use_reentrant will be updated to be False in the future. To maintain current behavior, pass use_reentrant=True. It is recommended that you use use_reentrant=False. Refer to docs for more details on the differences between the two variants.\n  warnings.warn(\n/usr/local/lib/python3.10/dist-packages/peft/utils/save_and_load.py:134: UserWarning: Setting `save_embedding_layers` to `True` as embedding layers found in `target_modules`.\n  warnings.warn(\"Setting `save_embedding_layers` to `True` as embedding layers found in `target_modules`.\")\n/usr/local/lib/python3.10/dist-packages/torch/utils/checkpoint.py:429: UserWarning: torch.utils.checkpoint: please pass in use_reentrant=True or use_reentrant=False explicitly. The default value of use_reentrant will be updated to be False in the future. To maintain current behavior, pass use_reentrant=True. It is recommended that you use use_reentrant=False. Refer to docs for more details on the differences between the two variants.\n  warnings.warn(\n/usr/local/lib/python3.10/dist-packages/peft/utils/save_and_load.py:134: UserWarning: Setting `save_embedding_layers` to `True` as embedding layers found in `target_modules`.\n  warnings.warn(\"Setting `save_embedding_layers` to `True` as embedding layers found in `target_modules`.\")\n/usr/local/lib/python3.10/dist-packages/torch/utils/checkpoint.py:429: UserWarning: torch.utils.checkpoint: please pass in use_reentrant=True or use_reentrant=False explicitly. The default value of use_reentrant will be updated to be False in the future. To maintain current behavior, pass use_reentrant=True. It is recommended that you use use_reentrant=False. Refer to docs for more details on the differences between the two variants.\n  warnings.warn(\n/usr/local/lib/python3.10/dist-packages/peft/utils/save_and_load.py:134: UserWarning: Setting `save_embedding_layers` to `True` as embedding layers found in `target_modules`.\n  warnings.warn(\"Setting `save_embedding_layers` to `True` as embedding layers found in `target_modules`.\")\n/usr/local/lib/python3.10/dist-packages/torch/utils/checkpoint.py:429: UserWarning: torch.utils.checkpoint: please pass in use_reentrant=True or use_reentrant=False explicitly. The default value of use_reentrant will be updated to be False in the future. To maintain current behavior, pass use_reentrant=True. It is recommended that you use use_reentrant=False. Refer to docs for more details on the differences between the two variants.\n  warnings.warn(\n/usr/local/lib/python3.10/dist-packages/peft/utils/save_and_load.py:134: UserWarning: Setting `save_embedding_layers` to `True` as embedding layers found in `target_modules`.\n  warnings.warn(\"Setting `save_embedding_layers` to `True` as embedding layers found in `target_modules`.\")\n/usr/local/lib/python3.10/dist-packages/torch/utils/checkpoint.py:429: UserWarning: torch.utils.checkpoint: please pass in use_reentrant=True or use_reentrant=False explicitly. The default value of use_reentrant will be updated to be False in the future. To maintain current behavior, pass use_reentrant=True. It is recommended that you use use_reentrant=False. Refer to docs for more details on the differences between the two variants.\n  warnings.warn(\n/usr/local/lib/python3.10/dist-packages/peft/utils/save_and_load.py:134: UserWarning: Setting `save_embedding_layers` to `True` as embedding layers found in `target_modules`.\n  warnings.warn(\"Setting `save_embedding_layers` to `True` as embedding layers found in `target_modules`.\")\n/usr/local/lib/python3.10/dist-packages/torch/utils/checkpoint.py:429: UserWarning: torch.utils.checkpoint: please pass in use_reentrant=True or use_reentrant=False explicitly. The default value of use_reentrant will be updated to be False in the future. To maintain current behavior, pass use_reentrant=True. It is recommended that you use use_reentrant=False. Refer to docs for more details on the differences between the two variants.\n  warnings.warn(\n/usr/local/lib/python3.10/dist-packages/peft/utils/save_and_load.py:134: UserWarning: Setting `save_embedding_layers` to `True` as embedding layers found in `target_modules`.\n  warnings.warn(\"Setting `save_embedding_layers` to `True` as embedding layers found in `target_modules`.\")\n"
        },
        {
          "output_type": "execute_result",
          "data": {
            "text/plain": "TrainOutput(global_step=500, training_loss=1.3856618537902832, metrics={'train_runtime': 4256.2301, 'train_samples_per_second': 3.759, 'train_steps_per_second': 0.117, 'total_flos': 3.48311545542869e+17, 'train_loss': 1.3856618537902832, 'epoch': 9.26})"
          },
          "metadata": {},
          "execution_count": 28
        }
      ]
    },
    {
      "metadata": {
        "id": "YyG4XttYtHD2"
      },
      "cell_type": "markdown",
      "source": [
        "# **Saving model onto drive**"
      ]
    },
    {
      "metadata": {
        "id": "3JmzhZMFooUD",
        "trusted": false
      },
      "cell_type": "code",
      "source": [
        "# Mount Google Drive\n",
        "drive.mount('/content/drive')\n",
        "\n",
        "# Define the source and destination paths\n",
        "source_path = '/content/mistral-blog_post-finetune'\n",
        "destination_path = '/content/drive/My Drive/NLG/mistral-blog_post-finetune'\n",
        "\n",
        "# Using shutil to copy the directory\n",
        "shutil.copytree(source_path, destination_path)"
      ],
      "execution_count": null,
      "outputs": []
    },
    {
      "metadata": {
        "id": "qTBThKsiwSBk",
        "colab": {
          "base_uri": "https://localhost:8080/",
          "height": 35
        },
        "outputId": "fe4f64d8-68e2-43b5-9f4d-075eaf739df9",
        "trusted": false
      },
      "cell_type": "code",
      "source": [
        "# Define the source and destination paths\n",
        "source_path = '/content/wandb'\n",
        "destination_path = '/content/drive/My Drive/NLG/blog_wandb'\n",
        "\n",
        "# Using shutil to copy the directory\n",
        "shutil.copytree(source_path, destination_path)"
      ],
      "execution_count": null,
      "outputs": [
        {
          "output_type": "execute_result",
          "data": {
            "text/plain": "'/content/drive/My Drive/NLG/blog_wandb'",
            "application/vnd.google.colaboratory.intrinsic+json": {
              "type": "string"
            }
          },
          "metadata": {},
          "execution_count": 31
        }
      ]
    },
    {
      "metadata": {
        "id": "DXSGSp5Yl3IW"
      },
      "cell_type": "markdown",
      "source": [
        "### **Trying the Trained Model!**"
      ]
    },
    {
      "metadata": {
        "id": "tQfUG5G4tVSD"
      },
      "cell_type": "markdown",
      "source": [
        "\n",
        "To manage memory usage effectively, it's advisable to terminate the current process, especially before loading a new model. This can be done by restarting the kernel (usually found under \"Kernel > Restart Kernel\" in most interfaces). This step prevents running out of memory that might occur if you attempt to load the base model on top of the already trained model in the same session.\n",
        "\n",
        "After restarting the kernel, you'll need to reload the base model. By default, the PEFT  library saves only the QLoRA adapters. Therefore, your next step should be to load the base model from the Huggingface Hub, onto which you can then integrate the saved QLoRA adapters. This process ensures you have the complete model setup, combining the original base model with the enhancements from the fine-tuning process."
      ]
    },
    {
      "metadata": {
        "id": "vcuJJPGShztL",
        "trusted": false
      },
      "cell_type": "code",
      "source": [
        "base_model_id = \"mistralai/Mistral-7B-v0.1\"\n",
        "bnb_config = BitsAndBytesConfig(\n",
        "    load_in_4bit=True,\n",
        "    bnb_4bit_use_double_quant=True,\n",
        "    bnb_4bit_quant_type=\"nf4\",\n",
        "    bnb_4bit_compute_dtype=torch.bfloat16\n",
        ")\n",
        "\n",
        "base_model = AutoModelForCausalLM.from_pretrained(\n",
        "    base_model_id,  # Mistral, same as before\n",
        "    quantization_config=bnb_config,  # Same quantization config as before\n",
        "    device_map=\"auto\",\n",
        "    trust_remote_code=True,\n",
        ")\n",
        "\n",
        "eval_tokenizer = AutoTokenizer.from_pretrained(base_model_id, add_bos_token=True, trust_remote_code=True)"
      ],
      "execution_count": null,
      "outputs": []
    },
    {
      "metadata": {
        "id": "4-jdO-CWtrZ8"
      },
      "cell_type": "markdown",
      "source": [
        "Next, proceed to load the QLoRA adapters from the checkpoint directory that corresponds to the best-performing model."
      ]
    },
    {
      "metadata": {
        "id": "63QR4mmvh9n3",
        "trusted": false
      },
      "cell_type": "code",
      "source": [
        "ft_model = PeftModel.from_pretrained(base_model, \"/content/drive/MyDrive/NLG/mistral-blog_post-finetune/checkpoint-150\")"
      ],
      "execution_count": null,
      "outputs": []
    },
    {
      "metadata": {
        "id": "nHnMiKoSt8po"
      },
      "cell_type": "markdown",
      "source": [
        "Now we can run multiple eval_prompt on our trained model to check if the fined-tuned model actually performs better. We just palyed around with a couple of eval_prompt."
      ]
    },
    {
      "metadata": {
        "id": "gl6_ynwLY5Yd",
        "trusted": false
      },
      "cell_type": "code",
      "source": [
        "#def formatting_func(example):\n",
        "   # text = f\"### Write me a blog post about this topic: {example}. Divide your post into subtopic and write several paragraphs for each subtopic\"\n",
        "    #return text"
      ],
      "execution_count": null,
      "outputs": []
    },
    {
      "metadata": {
        "id": "lqy2TpnZiMjC",
        "trusted": false
      },
      "cell_type": "code",
      "source": [
        "#eval_prompt = \"Write me a blog post about this topic: fitness tips  \"\n",
        "#model_input = eval_tokenizer(eval_prompt, return_tensors=\"pt\").to(\"cuda\")\n",
        "\n",
        "#ft_model.eval()\n",
        "#with torch.no_grad():\n",
        "    #print(eval_tokenizer.decode(ft_model.generate(**model_input, max_new_tokens=1000, repetition_penalty=1.15)[0], skip_special_tokens=True))"
      ],
      "execution_count": null,
      "outputs": []
    },
    {
      "metadata": {
        "colab": {
          "base_uri": "https://localhost:8080/"
        },
        "outputId": "fd5767be-a509-4ef5-fca6-10b93d72e4d6",
        "trusted": false,
        "id": "PliG3dz0Vst_"
      },
      "cell_type": "code",
      "source": [
        "#tryout 1\n",
        "# Define your main topic, subtopics, and key SEO keywords\n",
        "main_topic = \"Revolutionary Fitness Program for the Modern Era\"\n",
        "\n",
        "subtopics = [\n",
        "    \"Integration of Technology in Fitness\",\n",
        "    \"Personalized Workout Routines for Every Individual\",\n",
        "    \"Mental Health and Fitness\",\n",
        "    \"Balancing Modern Life with Physical Activity\",\n",
        "    \"Community and Support in Fitness\"\n",
        "]\n",
        "seo_keywords = [\n",
        "    \"technology in fitness\",\n",
        "    \"personalized fitness plans\",\n",
        "    \"mental health\",\n",
        "    \"physical activity\",\n",
        "    \"fitness community\",\n",
        "    \"modern fitness trends\",\n",
        "    \"health and wellness\",\n",
        "    \"active lifestyle\"\n",
        "]\n",
        "\n",
        "# Combine the main topic, subtopics, and SEO keywords into the prompt\n",
        "eval_prompt = f\"Write me a blog post about this topic: {main_topic}, including subtopics: {' | '.join(subtopics)} and ensure to integrate these key SEO keywords: {' | '.join(seo_keywords)}  in a well-formatted and structured paragraphs.\"\n",
        "\n",
        "# Tokenize the prompt using eval_tokenizer\n",
        "model_input = eval_tokenizer(eval_prompt, return_tensors=\"pt\").to(\"cuda\")\n",
        "\n",
        "# Set the model to evaluation mode\n",
        "ft_model.eval()\n",
        "\n",
        "# Generate content based on the model input\n",
        "with torch.no_grad():\n",
        "    generated_tokens = ft_model.generate(\n",
        "        **model_input,\n",
        "        max_new_tokens=1000,\n",
        "        repetition_penalty=1.15\n",
        "    )\n",
        "\n",
        "# Decode and print the generated content\n",
        "generated_text = eval_tokenizer.decode(generated_tokens[0], skip_special_tokens=True)\n",
        "print(generated_text)\n"
      ],
      "execution_count": null,
      "outputs": [
        {
          "output_type": "stream",
          "name": "stderr",
          "text": [
            "Setting `pad_token_id` to `eos_token_id`:2 for open-end generation.\n"
          ]
        },
        {
          "output_type": "stream",
          "name": "stdout",
          "text": [
            "Write me a blog post about this topic: Revolutionary Fitness Program for the Modern Era, including subtopics: Integration of Technology in Fitness | Personalized Workout Routines for Every Individual | Mental Health and Fitness | Balancing Modern Life with Physical Activity | Community and Support in Fitness and ensure to integrate these key SEO keywords: technology in fitness | personalized fitness plans | mental health | physical activity | fitness community | modern fitness trends | health and wellness | active lifestyle  in a well-formatted and structured paragraphs.\n",
            "\n",
            "The fitness industry has undergone significant changes over the years, adapting to the evolving needs and preferences of individuals seeking to improve their health and well-being. In recent times, we have witnessed a shift towards more personalized approaches that cater to the unique requirements of each individual. This article will explore some of the most prominent modern fitness trends, highlighting how they are revolutionizing the way people approach exercise and overall wellness.\n",
            "\n",
            "Integration of Technology in Fitness\n",
            "Technology has become an integral part of our lives, and it is no different when it comes to fitness. The integration of technology into fitness programs allows individuals to track their progress, monitor their heart rate, and receive real-time feedback on their performance. Wearable devices such as smartwatches and fitness trackers provide valuable insights into metrics like steps taken, calories burned, sleep quality, and even stress levels. These data points can help individuals make informed decisions about their workouts, adjust their routines accordingly, and stay motivated by tracking their progress over time.\n",
            "\n",
            "Personalized Workout Routines for Every Individual\n",
            "One-size-fits-all workout plans are becoming obsolete as fitness professionals recognize the importance of tailoring exercises to meet the specific needs and goals of each client. Personal trainers now conduct comprehensive assessments to identify areas of strength, weakness, imbalances, and any existing injuries or medical conditions. Based on this information, customized workout routines are designed to address individual limitations while challenging the body in ways that promote growth and improvement. By focusing on personalization, individuals can experience greater success, reduced risk of injury, and enhanced overall satisfaction with their fitness journey.\n",
            "\n",
            "Mental Health and Fitness\n",
            "In today’s fast-paced world, mental well-being has gained prominence as an essential component of overall health. Recognizing the interconnectedness between physical activity and mental health, many fitness enthusiasts are incorporating mindfulness practices into their workout routines. Activities such as yoga, meditation, and breathwork not only enhance flexibility and balance but also promote relaxation, reduce stress, and improve cognitive function. Additionally, group fitness classes offer a supportive environment where participants can connect with others, build camaraderie, and find solace through shared experiences.\n",
            "\n",
            "Balancing Modern Life with Physical Activity\n",
            "With the rise of sedentary lifestyles due to desk jobs and increased screen time, finding opportunities to incorporate physical activity into daily routines has become crucial. To combat this challenge, innovative solutions have emerged, allowing individuals to seamlessly integrate exercise into their busy schedules. High-intensity interval training (HIIT) workouts, which involve short bursts of intense effort followed by periods of rest, have gained popularity due to their efficiency and effectiveness. HIIT sessions can be completed in as little as 15 minutes, making them ideal for those with limited time. Furthermore, the availability of online fitness platforms and virtual coaching services enables individuals to access expert guidance and workout resources from anywhere, eliminating geographical barriers and facilitating convenient access to fitness programming.\n",
            "\n",
            "Community and Support in Fitness\n",
            "Fitness communities have evolved beyond traditional gym settings, fostering a sense of belonging and support among like-minded individuals. Social media platforms serve as powerful tools for connecting with others who share similar interests and goals. Online fitness challenges, group workout sessions, and motivational posts create a supportive environment where individuals can encourage one another, celebrate achievements, and seek advice from experienced peers. Additionally, specialized fitness studios and boutique gyms offer intimate class environments, providing a sense of camaraderie and connection that enhances the overall fitness experience.\n",
            "\n",
            "Conclusion\n",
            "As the fitness landscape continues to evolve, it becomes increasingly clear that modern trends are reshaping the way we approach exercise and wellness. From the integration of technology to personalized workout routines, mental health awareness, balancing life with physical activity, and fostering strong communities, these trends emphasize the importance of tailored approaches that prioritize the unique needs and aspirations of each individual. As we embrace these innovations, we can expect continued advancements in the field of fitness, leading to improved health outcomes and a heightened focus on holistic well-being.\n"
          ]
        }
      ]
    },
    {
      "metadata": {
        "id": "5lCJTL_J8kMm"
      },
      "cell_type": "markdown",
      "source": [
        "**Saving generated blog into a file, to be used later for image generation**"
      ]
    },
    {
      "metadata": {
        "id": "mFci9sDq8k7w",
        "trusted": false
      },
      "cell_type": "code",
      "source": [
        "# Using shutil to copy the directory\n",
        "shutil.copytree(source_path, destination_path)\n",
        "\n",
        "# Create the directory if it doesn't exist\n",
        "os.makedirs('/content/data', exist_ok=True)\n",
        "\n",
        "# Now save the file\n",
        "with open('/content/data/generated_blog_post.txt', 'w', encoding='utf-8') as file:\n",
        "    file.write(generated_text)"
      ],
      "execution_count": null,
      "outputs": []
    },
    {
      "metadata": {
        "id": "ztnYxndp9QJF",
        "trusted": false
      },
      "cell_type": "code",
      "source": [
        "with open('/content/data/generated_blog_post.txt', 'r', encoding='utf-8') as file:\n",
        "    generated_blog_post = file.read()\n",
        "\n",
        "print(generated_blog_post)"
      ],
      "execution_count": null,
      "outputs": []
    },
    {
      "metadata": {
        "id": "QhokQGZBKAuu"
      },
      "cell_type": "markdown",
      "source": [
        "**This part is just a repetition for the text generation but also necessary to proof check your output**"
      ]
    },
    {
      "metadata": {
        "colab": {
          "base_uri": "https://localhost:8080/"
        },
        "outputId": "c332df3f-a605-436f-cdfa-f8fb2fa3c991",
        "trusted": false,
        "id": "gnDk-Eq4V2cZ"
      },
      "cell_type": "code",
      "source": [
        "#try out 2\n",
        "# Define your main topic, subtopics, and key SEO keywords\n",
        "main_topic = \"Fostering Mental Health Through Fitness\"\n",
        "subtopics = [\n",
        "    \"Mind-Body Exercise Regimens\",\n",
        "    \"Nutritional Wellness for Mental Clarity\",\n",
        "    \"Community and Group Fitness Dynamics\",\n",
        "    \"Restorative Environments for Recovery\"\n",
        "]\n",
        "seo_keywords = [\n",
        "  \"mental health awareness\",\n",
        "  \"social connection\",\n",
        "  \"mind-body connection\"\n",
        "]\n",
        "\n",
        "# Combine the main topic, subtopics, and SEO keywords into the prompt\n",
        "eval_prompt = f\"Write me a blog post about this topic: {main_topic}, including subtopics: {' | '.join(subtopics)} and ensure to integrate these key SEO keywords: {' | '.join(seo_keywords)}  in a well-formatted and structured paragraphs.\"\n",
        "\n",
        "# Tokenize the prompt using eval_tokenizer\n",
        "model_input = eval_tokenizer(eval_prompt, return_tensors=\"pt\").to(\"cuda\")\n",
        "\n",
        "# Set the model to evaluation mode\n",
        "ft_model.eval()\n",
        "\n",
        "# Generate content based on the model input\n",
        "with torch.no_grad():\n",
        "    generated_tokens = ft_model.generate(\n",
        "        **model_input,\n",
        "        max_new_tokens=1000,\n",
        "        repetition_penalty=1.15\n",
        "    )\n",
        "\n",
        "# Decode and print the generated content\n",
        "generated_text = eval_tokenizer.decode(generated_tokens[0], skip_special_tokens=True)\n",
        "print(generated_text)\n",
        "\n"
      ],
      "execution_count": null,
      "outputs": [
        {
          "output_type": "stream",
          "name": "stderr",
          "text": [
            "Setting `pad_token_id` to `eos_token_id`:2 for open-end generation.\n"
          ]
        },
        {
          "output_type": "stream",
          "name": "stdout",
          "text": [
            "Write me a blog post about this topic: Fostering Mental Health Through Fitness, including subtopics: Mind-Body Exercise Regimens | Nutritional Wellness for Mental Clarity | Community and Group Fitness Dynamics | Restorative Environments for Recovery and ensure to integrate these key SEO keywords: mental health awareness | social connection | mind-body connection  in a well-formatted and structured paragraphs.\n",
            "\n",
            "Fostering Mental Health Through Fitness\n",
            "\n",
            "The COVID-19 pandemic has had an unprecedented impact on the physical and mental health of people around the world. As we continue to navigate through this challenging time, it is essential to prioritize our overall well-being by incorporating activities that promote both physical fitness and mental health. In this article, we will explore how fitness can play a vital role in fostering mental health and provide practical tips for integrating exercise into your daily routine.\n",
            "\n",
            "Mind-Body Exercise Regimens\n",
            "\n",
            "Engaging in mind-body exercises such as yoga or tai chi can be incredibly beneficial for promoting mental well-being. These practices involve synchronizing movement with breath, which helps to calm the mind, reduce stress, and improve focus. Additionally, the social aspect of participating in group classes can foster a sense of community and belonging, further enhancing mental health.\n",
            "\n",
            "Nutritional Wellness for Mental Clarity\n",
            "\n",
            "Proper nutrition plays a crucial role in maintaining both physical and mental health. Eating a balanced diet rich in fruits, vegetables, whole grains, lean proteins, and healthy fats can help regulate mood, increase energy levels, and support cognitive function. It’s important to consult with a healthcare professional or registered dietitian to develop a personalized meal plan tailored to individual needs and preferences.\n",
            "\n",
            "Community and Group Fitness Dynamics\n",
            "\n",
            "Participating in group fitness programs not only provides opportunities for physical activity but also offers social benefits that contribute to mental health. Engaging in team sports, joining running clubs, or attending group exercise classes allows individuals to connect with others who share similar interests and goals. This sense of camaraderie and shared experience can significantly enhance feelings of belonging and self-worth.\n",
            "\n",
            "Restorative Environments for Recovery\n",
            "\n",
            "Creating restorative environments within fitness facilities can positively impact mental health. Design elements such as calming colors, natural lighting, and soothing music can help create a relaxing atmosphere conducive to recovery after workouts. Additionally, offering amenities like saunas, steam rooms, or massage therapy can provide additional opportunities for relaxation and stress relief.\n",
            "\n",
            "Conclusion\n",
            "\n",
            "Incorporating regular physical activity into one’s lifestyle is essential for maintaining both physical and mental health. By engaging in mind-body exercises, focusing on nutritional wellness, participating in group fitness programs, and creating restorative environments, individuals can effectively manage their mental well-being while enjoying the numerous benefits of staying active. Prioritizing mental health through fitness is not only beneficial for oneself but also contributes to building stronger communities and a healthier society as a whole.\n",
            "\n",
            "SEO Keywords: mental health awareness | social connection | mind-body connection\n",
            "\n",
            "Adam Bornstein is a New York Times bestselling author and the author of You Can’t Screw This Up. He is the founder of Born Fitness, and the co-founder of Arnold’s Pump Club (with Arnold Schwarzenegger) and Pen Name Consulting. An award-winning writer and editor, Bornstein was previously the Chief Nutrition Officer for Ladder, the Fitness and Nutrition editor for Men’s Health, Editorial Director at LIVESTRONG.com, and a columnist for SHAPE, Men’s Fitness, and Muscle & Fitness. He’s also a nutrition and fitness advisor for LeBron James, Cindy Crawford, Lindsey Vonn, and Arnold Schwarzenegger. According to The Huffington Post, Bornstein is “one of the most inspiring sources in all of health and fitness.” His work has been featured in dozens of publications, including The New York Times, Fast Company, ESPN, and GQ, and he’s appeared on Good Morning America, The Today Show, and E! News. He lives in Los Angeles with his wife and two children. The views expressed in this article are the author’s own.\n"
          ]
        }
      ]
    },
    {
      "metadata": {
        "id": "MA4_75Bp-vx8",
        "trusted": false
      },
      "cell_type": "code",
      "source": [
        "# Now save the file\n",
        "with open('/content/data/generated_blog_post2.txt', 'w', encoding='utf-8') as file:\n",
        "    file.write(generated_text)"
      ],
      "execution_count": null,
      "outputs": []
    }
  ],
  "metadata": {
    "colab": {
      "machine_shape": "hm",
      "provenance": [],
      "gpuType": "A100"
    },
    "kernelspec": {
      "name": "python3",
      "display_name": "Python 3 (ipykernel)",
      "language": "python"
    },
    "language_info": {
      "name": "python",
      "version": "3.10.12",
      "mimetype": "text/x-python",
      "codemirror_mode": {
        "name": "ipython",
        "version": 3
      },
      "pygments_lexer": "ipython3",
      "nbconvert_exporter": "python",
      "file_extension": ".py"
    },
    "widgets": {
      "application/vnd.jupyter.widget-state+json": {
        "04a5a68f0f3b41b0b0ae52ce832b8586": {
          "model_module": "@jupyter-widgets/controls",
          "model_name": "HBoxModel",
          "model_module_version": "2.0.0",
          "state": {
            "_dom_classes": [],
            "_model_module": "@jupyter-widgets/controls",
            "_model_module_version": "2.0.0",
            "_model_name": "HBoxModel",
            "_view_count": null,
            "_view_module": "@jupyter-widgets/controls",
            "_view_module_version": "2.0.0",
            "_view_name": "HBoxView",
            "box_style": "",
            "children": [
              "IPY_MODEL_36553b7b71fd40a2ad6cc00fa6c58a86",
              "IPY_MODEL_6402e38116864e9cb4a7f27b9db2b38a",
              "IPY_MODEL_09e6e274dcb8435bb85b19fbbe15680e"
            ],
            "layout": "IPY_MODEL_f64a23bf573d463e925465ef41d9c664",
            "tabbable": null,
            "tooltip": null
          }
        },
        "36553b7b71fd40a2ad6cc00fa6c58a86": {
          "model_module": "@jupyter-widgets/controls",
          "model_name": "HTMLModel",
          "model_module_version": "2.0.0",
          "state": {
            "_dom_classes": [],
            "_model_module": "@jupyter-widgets/controls",
            "_model_module_version": "2.0.0",
            "_model_name": "HTMLModel",
            "_view_count": null,
            "_view_module": "@jupyter-widgets/controls",
            "_view_module_version": "2.0.0",
            "_view_name": "HTMLView",
            "description": "",
            "description_allow_html": false,
            "layout": "IPY_MODEL_e0887f50c93241dc8bf1aa25b45d38f4",
            "placeholder": "​",
            "style": "IPY_MODEL_b89aa0e4d2ae45ae94658fecb5ab2249",
            "tabbable": null,
            "tooltip": null,
            "value": "Generating train split: "
          }
        },
        "6402e38116864e9cb4a7f27b9db2b38a": {
          "model_module": "@jupyter-widgets/controls",
          "model_name": "FloatProgressModel",
          "model_module_version": "2.0.0",
          "state": {
            "_dom_classes": [],
            "_model_module": "@jupyter-widgets/controls",
            "_model_module_version": "2.0.0",
            "_model_name": "FloatProgressModel",
            "_view_count": null,
            "_view_module": "@jupyter-widgets/controls",
            "_view_module_version": "2.0.0",
            "_view_name": "ProgressView",
            "bar_style": "success",
            "description": "",
            "description_allow_html": false,
            "layout": "IPY_MODEL_98860d92bf914fd6a09c094886879853",
            "max": 1,
            "min": 0,
            "orientation": "horizontal",
            "style": "IPY_MODEL_e18b8ee66a254a6aa750b7b624252336",
            "tabbable": null,
            "tooltip": null,
            "value": 1
          }
        },
        "09e6e274dcb8435bb85b19fbbe15680e": {
          "model_module": "@jupyter-widgets/controls",
          "model_name": "HTMLModel",
          "model_module_version": "2.0.0",
          "state": {
            "_dom_classes": [],
            "_model_module": "@jupyter-widgets/controls",
            "_model_module_version": "2.0.0",
            "_model_name": "HTMLModel",
            "_view_count": null,
            "_view_module": "@jupyter-widgets/controls",
            "_view_module_version": "2.0.0",
            "_view_name": "HTMLView",
            "description": "",
            "description_allow_html": false,
            "layout": "IPY_MODEL_daad29d0773c46f59aa24f1a42fbe947",
            "placeholder": "​",
            "style": "IPY_MODEL_284f7bcb7ec44a4eb94c67a4a12c5e38",
            "tabbable": null,
            "tooltip": null,
            "value": " 1701/0 [00:00&lt;00:00, 48646.94 examples/s]"
          }
        },
        "f64a23bf573d463e925465ef41d9c664": {
          "model_module": "@jupyter-widgets/base",
          "model_name": "LayoutModel",
          "model_module_version": "2.0.0",
          "state": {
            "_model_module": "@jupyter-widgets/base",
            "_model_module_version": "2.0.0",
            "_model_name": "LayoutModel",
            "_view_count": null,
            "_view_module": "@jupyter-widgets/base",
            "_view_module_version": "2.0.0",
            "_view_name": "LayoutView",
            "align_content": null,
            "align_items": null,
            "align_self": null,
            "border_bottom": null,
            "border_left": null,
            "border_right": null,
            "border_top": null,
            "bottom": null,
            "display": null,
            "flex": null,
            "flex_flow": null,
            "grid_area": null,
            "grid_auto_columns": null,
            "grid_auto_flow": null,
            "grid_auto_rows": null,
            "grid_column": null,
            "grid_gap": null,
            "grid_row": null,
            "grid_template_areas": null,
            "grid_template_columns": null,
            "grid_template_rows": null,
            "height": null,
            "justify_content": null,
            "justify_items": null,
            "left": null,
            "margin": null,
            "max_height": null,
            "max_width": null,
            "min_height": null,
            "min_width": null,
            "object_fit": null,
            "object_position": null,
            "order": null,
            "overflow": null,
            "padding": null,
            "right": null,
            "top": null,
            "visibility": null,
            "width": null
          }
        },
        "e0887f50c93241dc8bf1aa25b45d38f4": {
          "model_module": "@jupyter-widgets/base",
          "model_name": "LayoutModel",
          "model_module_version": "2.0.0",
          "state": {
            "_model_module": "@jupyter-widgets/base",
            "_model_module_version": "2.0.0",
            "_model_name": "LayoutModel",
            "_view_count": null,
            "_view_module": "@jupyter-widgets/base",
            "_view_module_version": "2.0.0",
            "_view_name": "LayoutView",
            "align_content": null,
            "align_items": null,
            "align_self": null,
            "border_bottom": null,
            "border_left": null,
            "border_right": null,
            "border_top": null,
            "bottom": null,
            "display": null,
            "flex": null,
            "flex_flow": null,
            "grid_area": null,
            "grid_auto_columns": null,
            "grid_auto_flow": null,
            "grid_auto_rows": null,
            "grid_column": null,
            "grid_gap": null,
            "grid_row": null,
            "grid_template_areas": null,
            "grid_template_columns": null,
            "grid_template_rows": null,
            "height": null,
            "justify_content": null,
            "justify_items": null,
            "left": null,
            "margin": null,
            "max_height": null,
            "max_width": null,
            "min_height": null,
            "min_width": null,
            "object_fit": null,
            "object_position": null,
            "order": null,
            "overflow": null,
            "padding": null,
            "right": null,
            "top": null,
            "visibility": null,
            "width": null
          }
        },
        "b89aa0e4d2ae45ae94658fecb5ab2249": {
          "model_module": "@jupyter-widgets/controls",
          "model_name": "HTMLStyleModel",
          "model_module_version": "2.0.0",
          "state": {
            "_model_module": "@jupyter-widgets/controls",
            "_model_module_version": "2.0.0",
            "_model_name": "HTMLStyleModel",
            "_view_count": null,
            "_view_module": "@jupyter-widgets/base",
            "_view_module_version": "2.0.0",
            "_view_name": "StyleView",
            "background": null,
            "description_width": "",
            "font_size": null,
            "text_color": null
          }
        },
        "98860d92bf914fd6a09c094886879853": {
          "model_module": "@jupyter-widgets/base",
          "model_name": "LayoutModel",
          "model_module_version": "2.0.0",
          "state": {
            "_model_module": "@jupyter-widgets/base",
            "_model_module_version": "2.0.0",
            "_model_name": "LayoutModel",
            "_view_count": null,
            "_view_module": "@jupyter-widgets/base",
            "_view_module_version": "2.0.0",
            "_view_name": "LayoutView",
            "align_content": null,
            "align_items": null,
            "align_self": null,
            "border_bottom": null,
            "border_left": null,
            "border_right": null,
            "border_top": null,
            "bottom": null,
            "display": null,
            "flex": null,
            "flex_flow": null,
            "grid_area": null,
            "grid_auto_columns": null,
            "grid_auto_flow": null,
            "grid_auto_rows": null,
            "grid_column": null,
            "grid_gap": null,
            "grid_row": null,
            "grid_template_areas": null,
            "grid_template_columns": null,
            "grid_template_rows": null,
            "height": null,
            "justify_content": null,
            "justify_items": null,
            "left": null,
            "margin": null,
            "max_height": null,
            "max_width": null,
            "min_height": null,
            "min_width": null,
            "object_fit": null,
            "object_position": null,
            "order": null,
            "overflow": null,
            "padding": null,
            "right": null,
            "top": null,
            "visibility": null,
            "width": "20px"
          }
        },
        "e18b8ee66a254a6aa750b7b624252336": {
          "model_module": "@jupyter-widgets/controls",
          "model_name": "ProgressStyleModel",
          "model_module_version": "2.0.0",
          "state": {
            "_model_module": "@jupyter-widgets/controls",
            "_model_module_version": "2.0.0",
            "_model_name": "ProgressStyleModel",
            "_view_count": null,
            "_view_module": "@jupyter-widgets/base",
            "_view_module_version": "2.0.0",
            "_view_name": "StyleView",
            "bar_color": null,
            "description_width": ""
          }
        },
        "daad29d0773c46f59aa24f1a42fbe947": {
          "model_module": "@jupyter-widgets/base",
          "model_name": "LayoutModel",
          "model_module_version": "2.0.0",
          "state": {
            "_model_module": "@jupyter-widgets/base",
            "_model_module_version": "2.0.0",
            "_model_name": "LayoutModel",
            "_view_count": null,
            "_view_module": "@jupyter-widgets/base",
            "_view_module_version": "2.0.0",
            "_view_name": "LayoutView",
            "align_content": null,
            "align_items": null,
            "align_self": null,
            "border_bottom": null,
            "border_left": null,
            "border_right": null,
            "border_top": null,
            "bottom": null,
            "display": null,
            "flex": null,
            "flex_flow": null,
            "grid_area": null,
            "grid_auto_columns": null,
            "grid_auto_flow": null,
            "grid_auto_rows": null,
            "grid_column": null,
            "grid_gap": null,
            "grid_row": null,
            "grid_template_areas": null,
            "grid_template_columns": null,
            "grid_template_rows": null,
            "height": null,
            "justify_content": null,
            "justify_items": null,
            "left": null,
            "margin": null,
            "max_height": null,
            "max_width": null,
            "min_height": null,
            "min_width": null,
            "object_fit": null,
            "object_position": null,
            "order": null,
            "overflow": null,
            "padding": null,
            "right": null,
            "top": null,
            "visibility": null,
            "width": null
          }
        },
        "284f7bcb7ec44a4eb94c67a4a12c5e38": {
          "model_module": "@jupyter-widgets/controls",
          "model_name": "HTMLStyleModel",
          "model_module_version": "2.0.0",
          "state": {
            "_model_module": "@jupyter-widgets/controls",
            "_model_module_version": "2.0.0",
            "_model_name": "HTMLStyleModel",
            "_view_count": null,
            "_view_module": "@jupyter-widgets/base",
            "_view_module_version": "2.0.0",
            "_view_name": "StyleView",
            "background": null,
            "description_width": "",
            "font_size": null,
            "text_color": null
          }
        },
        "dce862ee42b24a8f929c41aea8018d7a": {
          "model_module": "@jupyter-widgets/controls",
          "model_name": "HBoxModel",
          "model_module_version": "2.0.0",
          "state": {
            "_dom_classes": [],
            "_model_module": "@jupyter-widgets/controls",
            "_model_module_version": "2.0.0",
            "_model_name": "HBoxModel",
            "_view_count": null,
            "_view_module": "@jupyter-widgets/controls",
            "_view_module_version": "2.0.0",
            "_view_name": "HBoxView",
            "box_style": "",
            "children": [
              "IPY_MODEL_77ad73bec4c34a4fae9c3ecdc40c84cb",
              "IPY_MODEL_7c3873ae30324744951dbb09c24e8cba",
              "IPY_MODEL_60bafb942748461ead2ba72b6e978df2"
            ],
            "layout": "IPY_MODEL_f9a0d0e999294d71bdabc1f21a30ac56",
            "tabbable": null,
            "tooltip": null
          }
        },
        "77ad73bec4c34a4fae9c3ecdc40c84cb": {
          "model_module": "@jupyter-widgets/controls",
          "model_name": "HTMLModel",
          "model_module_version": "2.0.0",
          "state": {
            "_dom_classes": [],
            "_model_module": "@jupyter-widgets/controls",
            "_model_module_version": "2.0.0",
            "_model_name": "HTMLModel",
            "_view_count": null,
            "_view_module": "@jupyter-widgets/controls",
            "_view_module_version": "2.0.0",
            "_view_name": "HTMLView",
            "description": "",
            "description_allow_html": false,
            "layout": "IPY_MODEL_e05015c610b5492bad3180c7dcbeafa5",
            "placeholder": "​",
            "style": "IPY_MODEL_592a3e5cd862489c939e72e7c3fd1e6c",
            "tabbable": null,
            "tooltip": null,
            "value": "Generating train split: "
          }
        },
        "7c3873ae30324744951dbb09c24e8cba": {
          "model_module": "@jupyter-widgets/controls",
          "model_name": "FloatProgressModel",
          "model_module_version": "2.0.0",
          "state": {
            "_dom_classes": [],
            "_model_module": "@jupyter-widgets/controls",
            "_model_module_version": "2.0.0",
            "_model_name": "FloatProgressModel",
            "_view_count": null,
            "_view_module": "@jupyter-widgets/controls",
            "_view_module_version": "2.0.0",
            "_view_name": "ProgressView",
            "bar_style": "success",
            "description": "",
            "description_allow_html": false,
            "layout": "IPY_MODEL_3abe5395267c42d7acd68565684cc744",
            "max": 1,
            "min": 0,
            "orientation": "horizontal",
            "style": "IPY_MODEL_1f4518605dc54cdc9081662eef654343",
            "tabbable": null,
            "tooltip": null,
            "value": 1
          }
        },
        "60bafb942748461ead2ba72b6e978df2": {
          "model_module": "@jupyter-widgets/controls",
          "model_name": "HTMLModel",
          "model_module_version": "2.0.0",
          "state": {
            "_dom_classes": [],
            "_model_module": "@jupyter-widgets/controls",
            "_model_module_version": "2.0.0",
            "_model_name": "HTMLModel",
            "_view_count": null,
            "_view_module": "@jupyter-widgets/controls",
            "_view_module_version": "2.0.0",
            "_view_name": "HTMLView",
            "description": "",
            "description_allow_html": false,
            "layout": "IPY_MODEL_9ef7910ec3234b01a9ddf4b2d6eed0d9",
            "placeholder": "​",
            "style": "IPY_MODEL_22ed9a4a6b9f405190e5df1c0579ea38",
            "tabbable": null,
            "tooltip": null,
            "value": " 189/0 [00:00&lt;00:00, 10455.33 examples/s]"
          }
        },
        "f9a0d0e999294d71bdabc1f21a30ac56": {
          "model_module": "@jupyter-widgets/base",
          "model_name": "LayoutModel",
          "model_module_version": "2.0.0",
          "state": {
            "_model_module": "@jupyter-widgets/base",
            "_model_module_version": "2.0.0",
            "_model_name": "LayoutModel",
            "_view_count": null,
            "_view_module": "@jupyter-widgets/base",
            "_view_module_version": "2.0.0",
            "_view_name": "LayoutView",
            "align_content": null,
            "align_items": null,
            "align_self": null,
            "border_bottom": null,
            "border_left": null,
            "border_right": null,
            "border_top": null,
            "bottom": null,
            "display": null,
            "flex": null,
            "flex_flow": null,
            "grid_area": null,
            "grid_auto_columns": null,
            "grid_auto_flow": null,
            "grid_auto_rows": null,
            "grid_column": null,
            "grid_gap": null,
            "grid_row": null,
            "grid_template_areas": null,
            "grid_template_columns": null,
            "grid_template_rows": null,
            "height": null,
            "justify_content": null,
            "justify_items": null,
            "left": null,
            "margin": null,
            "max_height": null,
            "max_width": null,
            "min_height": null,
            "min_width": null,
            "object_fit": null,
            "object_position": null,
            "order": null,
            "overflow": null,
            "padding": null,
            "right": null,
            "top": null,
            "visibility": null,
            "width": null
          }
        },
        "e05015c610b5492bad3180c7dcbeafa5": {
          "model_module": "@jupyter-widgets/base",
          "model_name": "LayoutModel",
          "model_module_version": "2.0.0",
          "state": {
            "_model_module": "@jupyter-widgets/base",
            "_model_module_version": "2.0.0",
            "_model_name": "LayoutModel",
            "_view_count": null,
            "_view_module": "@jupyter-widgets/base",
            "_view_module_version": "2.0.0",
            "_view_name": "LayoutView",
            "align_content": null,
            "align_items": null,
            "align_self": null,
            "border_bottom": null,
            "border_left": null,
            "border_right": null,
            "border_top": null,
            "bottom": null,
            "display": null,
            "flex": null,
            "flex_flow": null,
            "grid_area": null,
            "grid_auto_columns": null,
            "grid_auto_flow": null,
            "grid_auto_rows": null,
            "grid_column": null,
            "grid_gap": null,
            "grid_row": null,
            "grid_template_areas": null,
            "grid_template_columns": null,
            "grid_template_rows": null,
            "height": null,
            "justify_content": null,
            "justify_items": null,
            "left": null,
            "margin": null,
            "max_height": null,
            "max_width": null,
            "min_height": null,
            "min_width": null,
            "object_fit": null,
            "object_position": null,
            "order": null,
            "overflow": null,
            "padding": null,
            "right": null,
            "top": null,
            "visibility": null,
            "width": null
          }
        },
        "592a3e5cd862489c939e72e7c3fd1e6c": {
          "model_module": "@jupyter-widgets/controls",
          "model_name": "HTMLStyleModel",
          "model_module_version": "2.0.0",
          "state": {
            "_model_module": "@jupyter-widgets/controls",
            "_model_module_version": "2.0.0",
            "_model_name": "HTMLStyleModel",
            "_view_count": null,
            "_view_module": "@jupyter-widgets/base",
            "_view_module_version": "2.0.0",
            "_view_name": "StyleView",
            "background": null,
            "description_width": "",
            "font_size": null,
            "text_color": null
          }
        },
        "3abe5395267c42d7acd68565684cc744": {
          "model_module": "@jupyter-widgets/base",
          "model_name": "LayoutModel",
          "model_module_version": "2.0.0",
          "state": {
            "_model_module": "@jupyter-widgets/base",
            "_model_module_version": "2.0.0",
            "_model_name": "LayoutModel",
            "_view_count": null,
            "_view_module": "@jupyter-widgets/base",
            "_view_module_version": "2.0.0",
            "_view_name": "LayoutView",
            "align_content": null,
            "align_items": null,
            "align_self": null,
            "border_bottom": null,
            "border_left": null,
            "border_right": null,
            "border_top": null,
            "bottom": null,
            "display": null,
            "flex": null,
            "flex_flow": null,
            "grid_area": null,
            "grid_auto_columns": null,
            "grid_auto_flow": null,
            "grid_auto_rows": null,
            "grid_column": null,
            "grid_gap": null,
            "grid_row": null,
            "grid_template_areas": null,
            "grid_template_columns": null,
            "grid_template_rows": null,
            "height": null,
            "justify_content": null,
            "justify_items": null,
            "left": null,
            "margin": null,
            "max_height": null,
            "max_width": null,
            "min_height": null,
            "min_width": null,
            "object_fit": null,
            "object_position": null,
            "order": null,
            "overflow": null,
            "padding": null,
            "right": null,
            "top": null,
            "visibility": null,
            "width": "20px"
          }
        },
        "1f4518605dc54cdc9081662eef654343": {
          "model_module": "@jupyter-widgets/controls",
          "model_name": "ProgressStyleModel",
          "model_module_version": "2.0.0",
          "state": {
            "_model_module": "@jupyter-widgets/controls",
            "_model_module_version": "2.0.0",
            "_model_name": "ProgressStyleModel",
            "_view_count": null,
            "_view_module": "@jupyter-widgets/base",
            "_view_module_version": "2.0.0",
            "_view_name": "StyleView",
            "bar_color": null,
            "description_width": ""
          }
        },
        "9ef7910ec3234b01a9ddf4b2d6eed0d9": {
          "model_module": "@jupyter-widgets/base",
          "model_name": "LayoutModel",
          "model_module_version": "2.0.0",
          "state": {
            "_model_module": "@jupyter-widgets/base",
            "_model_module_version": "2.0.0",
            "_model_name": "LayoutModel",
            "_view_count": null,
            "_view_module": "@jupyter-widgets/base",
            "_view_module_version": "2.0.0",
            "_view_name": "LayoutView",
            "align_content": null,
            "align_items": null,
            "align_self": null,
            "border_bottom": null,
            "border_left": null,
            "border_right": null,
            "border_top": null,
            "bottom": null,
            "display": null,
            "flex": null,
            "flex_flow": null,
            "grid_area": null,
            "grid_auto_columns": null,
            "grid_auto_flow": null,
            "grid_auto_rows": null,
            "grid_column": null,
            "grid_gap": null,
            "grid_row": null,
            "grid_template_areas": null,
            "grid_template_columns": null,
            "grid_template_rows": null,
            "height": null,
            "justify_content": null,
            "justify_items": null,
            "left": null,
            "margin": null,
            "max_height": null,
            "max_width": null,
            "min_height": null,
            "min_width": null,
            "object_fit": null,
            "object_position": null,
            "order": null,
            "overflow": null,
            "padding": null,
            "right": null,
            "top": null,
            "visibility": null,
            "width": null
          }
        },
        "22ed9a4a6b9f405190e5df1c0579ea38": {
          "model_module": "@jupyter-widgets/controls",
          "model_name": "HTMLStyleModel",
          "model_module_version": "2.0.0",
          "state": {
            "_model_module": "@jupyter-widgets/controls",
            "_model_module_version": "2.0.0",
            "_model_name": "HTMLStyleModel",
            "_view_count": null,
            "_view_module": "@jupyter-widgets/base",
            "_view_module_version": "2.0.0",
            "_view_name": "StyleView",
            "background": null,
            "description_width": "",
            "font_size": null,
            "text_color": null
          }
        }
      }
    },
    "accelerator": "GPU"
  },
  "nbformat": 4,
  "nbformat_minor": 0
}